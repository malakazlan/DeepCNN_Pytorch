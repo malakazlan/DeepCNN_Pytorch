{
  "nbformat": 4,
  "nbformat_minor": 0,
  "metadata": {
    "colab": {
      "provenance": []
    },
    "kernelspec": {
      "name": "python3",
      "display_name": "Python 3"
    },
    "language_info": {
      "name": "python"
    }
  },
  "cells": [
    {
      "cell_type": "code",
      "execution_count": null,
      "metadata": {
        "colab": {
          "base_uri": "https://localhost:8080/"
        },
        "id": "FnoPyFTPNAdI",
        "outputId": "d1a1927e-e7d2-42ae-b2d7-32abebd6082a"
      },
      "outputs": [
        {
          "output_type": "stream",
          "name": "stdout",
          "text": [
            "Requirement already satisfied: torch in /usr/local/lib/python3.11/dist-packages (2.6.0+cu124)\n",
            "Requirement already satisfied: filelock in /usr/local/lib/python3.11/dist-packages (from torch) (3.18.0)\n",
            "Requirement already satisfied: typing-extensions>=4.10.0 in /usr/local/lib/python3.11/dist-packages (from torch) (4.14.0)\n",
            "Requirement already satisfied: networkx in /usr/local/lib/python3.11/dist-packages (from torch) (3.5)\n",
            "Requirement already satisfied: jinja2 in /usr/local/lib/python3.11/dist-packages (from torch) (3.1.6)\n",
            "Requirement already satisfied: fsspec in /usr/local/lib/python3.11/dist-packages (from torch) (2025.3.2)\n",
            "Collecting nvidia-cuda-nvrtc-cu12==12.4.127 (from torch)\n",
            "  Downloading nvidia_cuda_nvrtc_cu12-12.4.127-py3-none-manylinux2014_x86_64.whl.metadata (1.5 kB)\n",
            "Collecting nvidia-cuda-runtime-cu12==12.4.127 (from torch)\n",
            "  Downloading nvidia_cuda_runtime_cu12-12.4.127-py3-none-manylinux2014_x86_64.whl.metadata (1.5 kB)\n",
            "Collecting nvidia-cuda-cupti-cu12==12.4.127 (from torch)\n",
            "  Downloading nvidia_cuda_cupti_cu12-12.4.127-py3-none-manylinux2014_x86_64.whl.metadata (1.6 kB)\n",
            "Collecting nvidia-cudnn-cu12==9.1.0.70 (from torch)\n",
            "  Downloading nvidia_cudnn_cu12-9.1.0.70-py3-none-manylinux2014_x86_64.whl.metadata (1.6 kB)\n",
            "Collecting nvidia-cublas-cu12==12.4.5.8 (from torch)\n",
            "  Downloading nvidia_cublas_cu12-12.4.5.8-py3-none-manylinux2014_x86_64.whl.metadata (1.5 kB)\n",
            "Collecting nvidia-cufft-cu12==11.2.1.3 (from torch)\n",
            "  Downloading nvidia_cufft_cu12-11.2.1.3-py3-none-manylinux2014_x86_64.whl.metadata (1.5 kB)\n",
            "Collecting nvidia-curand-cu12==10.3.5.147 (from torch)\n",
            "  Downloading nvidia_curand_cu12-10.3.5.147-py3-none-manylinux2014_x86_64.whl.metadata (1.5 kB)\n",
            "Collecting nvidia-cusolver-cu12==11.6.1.9 (from torch)\n",
            "  Downloading nvidia_cusolver_cu12-11.6.1.9-py3-none-manylinux2014_x86_64.whl.metadata (1.6 kB)\n",
            "Collecting nvidia-cusparse-cu12==12.3.1.170 (from torch)\n",
            "  Downloading nvidia_cusparse_cu12-12.3.1.170-py3-none-manylinux2014_x86_64.whl.metadata (1.6 kB)\n",
            "Requirement already satisfied: nvidia-cusparselt-cu12==0.6.2 in /usr/local/lib/python3.11/dist-packages (from torch) (0.6.2)\n",
            "Requirement already satisfied: nvidia-nccl-cu12==2.21.5 in /usr/local/lib/python3.11/dist-packages (from torch) (2.21.5)\n",
            "Requirement already satisfied: nvidia-nvtx-cu12==12.4.127 in /usr/local/lib/python3.11/dist-packages (from torch) (12.4.127)\n",
            "Collecting nvidia-nvjitlink-cu12==12.4.127 (from torch)\n",
            "  Downloading nvidia_nvjitlink_cu12-12.4.127-py3-none-manylinux2014_x86_64.whl.metadata (1.5 kB)\n",
            "Requirement already satisfied: triton==3.2.0 in /usr/local/lib/python3.11/dist-packages (from torch) (3.2.0)\n",
            "Requirement already satisfied: sympy==1.13.1 in /usr/local/lib/python3.11/dist-packages (from torch) (1.13.1)\n",
            "Requirement already satisfied: mpmath<1.4,>=1.1.0 in /usr/local/lib/python3.11/dist-packages (from sympy==1.13.1->torch) (1.3.0)\n",
            "Requirement already satisfied: MarkupSafe>=2.0 in /usr/local/lib/python3.11/dist-packages (from jinja2->torch) (3.0.2)\n",
            "Downloading nvidia_cublas_cu12-12.4.5.8-py3-none-manylinux2014_x86_64.whl (363.4 MB)\n",
            "\u001b[2K   \u001b[90m━━━━━━━━━━━━━━━━━━━━━━━━━━━━━━━━━━━━━━━━\u001b[0m \u001b[32m363.4/363.4 MB\u001b[0m \u001b[31m4.1 MB/s\u001b[0m eta \u001b[36m0:00:00\u001b[0m\n",
            "\u001b[?25hDownloading nvidia_cuda_cupti_cu12-12.4.127-py3-none-manylinux2014_x86_64.whl (13.8 MB)\n",
            "\u001b[2K   \u001b[90m━━━━━━━━━━━━━━━━━━━━━━━━━━━━━━━━━━━━━━━━\u001b[0m \u001b[32m13.8/13.8 MB\u001b[0m \u001b[31m62.3 MB/s\u001b[0m eta \u001b[36m0:00:00\u001b[0m\n",
            "\u001b[?25hDownloading nvidia_cuda_nvrtc_cu12-12.4.127-py3-none-manylinux2014_x86_64.whl (24.6 MB)\n",
            "\u001b[2K   \u001b[90m━━━━━━━━━━━━━━━━━━━━━━━━━━━━━━━━━━━━━━━━\u001b[0m \u001b[32m24.6/24.6 MB\u001b[0m \u001b[31m34.5 MB/s\u001b[0m eta \u001b[36m0:00:00\u001b[0m\n",
            "\u001b[?25hDownloading nvidia_cuda_runtime_cu12-12.4.127-py3-none-manylinux2014_x86_64.whl (883 kB)\n",
            "\u001b[2K   \u001b[90m━━━━━━━━━━━━━━━━━━━━━━━━━━━━━━━━━━━━━━━━\u001b[0m \u001b[32m883.7/883.7 kB\u001b[0m \u001b[31m45.2 MB/s\u001b[0m eta \u001b[36m0:00:00\u001b[0m\n",
            "\u001b[?25hDownloading nvidia_cudnn_cu12-9.1.0.70-py3-none-manylinux2014_x86_64.whl (664.8 MB)\n",
            "\u001b[2K   \u001b[90m━━━━━━━━━━━━━━━━━━━━━━━━━━━━━━━━━━━━━━━━\u001b[0m \u001b[32m664.8/664.8 MB\u001b[0m \u001b[31m2.1 MB/s\u001b[0m eta \u001b[36m0:00:00\u001b[0m\n",
            "\u001b[?25hDownloading nvidia_cufft_cu12-11.2.1.3-py3-none-manylinux2014_x86_64.whl (211.5 MB)\n",
            "\u001b[2K   \u001b[90m━━━━━━━━━━━━━━━━━━━━━━━━━━━━━━━━━━━━━━━━\u001b[0m \u001b[32m211.5/211.5 MB\u001b[0m \u001b[31m5.9 MB/s\u001b[0m eta \u001b[36m0:00:00\u001b[0m\n",
            "\u001b[?25hDownloading nvidia_curand_cu12-10.3.5.147-py3-none-manylinux2014_x86_64.whl (56.3 MB)\n",
            "\u001b[2K   \u001b[90m━━━━━━━━━━━━━━━━━━━━━━━━━━━━━━━━━━━━━━━━\u001b[0m \u001b[32m56.3/56.3 MB\u001b[0m \u001b[31m11.3 MB/s\u001b[0m eta \u001b[36m0:00:00\u001b[0m\n",
            "\u001b[?25hDownloading nvidia_cusolver_cu12-11.6.1.9-py3-none-manylinux2014_x86_64.whl (127.9 MB)\n",
            "\u001b[2K   \u001b[90m━━━━━━━━━━━━━━━━━━━━━━━━━━━━━━━━━━━━━━━━\u001b[0m \u001b[32m127.9/127.9 MB\u001b[0m \u001b[31m7.2 MB/s\u001b[0m eta \u001b[36m0:00:00\u001b[0m\n",
            "\u001b[?25hDownloading nvidia_cusparse_cu12-12.3.1.170-py3-none-manylinux2014_x86_64.whl (207.5 MB)\n",
            "\u001b[2K   \u001b[90m━━━━━━━━━━━━━━━━━━━━━━━━━━━━━━━━━━━━━━━━\u001b[0m \u001b[32m207.5/207.5 MB\u001b[0m \u001b[31m6.0 MB/s\u001b[0m eta \u001b[36m0:00:00\u001b[0m\n",
            "\u001b[?25hDownloading nvidia_nvjitlink_cu12-12.4.127-py3-none-manylinux2014_x86_64.whl (21.1 MB)\n",
            "\u001b[2K   \u001b[90m━━━━━━━━━━━━━━━━━━━━━━━━━━━━━━━━━━━━━━━━\u001b[0m \u001b[32m21.1/21.1 MB\u001b[0m \u001b[31m90.1 MB/s\u001b[0m eta \u001b[36m0:00:00\u001b[0m\n",
            "\u001b[?25hInstalling collected packages: nvidia-nvjitlink-cu12, nvidia-curand-cu12, nvidia-cufft-cu12, nvidia-cuda-runtime-cu12, nvidia-cuda-nvrtc-cu12, nvidia-cuda-cupti-cu12, nvidia-cublas-cu12, nvidia-cusparse-cu12, nvidia-cudnn-cu12, nvidia-cusolver-cu12\n",
            "  Attempting uninstall: nvidia-nvjitlink-cu12\n",
            "    Found existing installation: nvidia-nvjitlink-cu12 12.5.82\n",
            "    Uninstalling nvidia-nvjitlink-cu12-12.5.82:\n",
            "      Successfully uninstalled nvidia-nvjitlink-cu12-12.5.82\n",
            "  Attempting uninstall: nvidia-curand-cu12\n",
            "    Found existing installation: nvidia-curand-cu12 10.3.6.82\n",
            "    Uninstalling nvidia-curand-cu12-10.3.6.82:\n",
            "      Successfully uninstalled nvidia-curand-cu12-10.3.6.82\n",
            "  Attempting uninstall: nvidia-cufft-cu12\n",
            "    Found existing installation: nvidia-cufft-cu12 11.2.3.61\n",
            "    Uninstalling nvidia-cufft-cu12-11.2.3.61:\n",
            "      Successfully uninstalled nvidia-cufft-cu12-11.2.3.61\n",
            "  Attempting uninstall: nvidia-cuda-runtime-cu12\n",
            "    Found existing installation: nvidia-cuda-runtime-cu12 12.5.82\n",
            "    Uninstalling nvidia-cuda-runtime-cu12-12.5.82:\n",
            "      Successfully uninstalled nvidia-cuda-runtime-cu12-12.5.82\n",
            "  Attempting uninstall: nvidia-cuda-nvrtc-cu12\n",
            "    Found existing installation: nvidia-cuda-nvrtc-cu12 12.5.82\n",
            "    Uninstalling nvidia-cuda-nvrtc-cu12-12.5.82:\n",
            "      Successfully uninstalled nvidia-cuda-nvrtc-cu12-12.5.82\n",
            "  Attempting uninstall: nvidia-cuda-cupti-cu12\n",
            "    Found existing installation: nvidia-cuda-cupti-cu12 12.5.82\n",
            "    Uninstalling nvidia-cuda-cupti-cu12-12.5.82:\n",
            "      Successfully uninstalled nvidia-cuda-cupti-cu12-12.5.82\n",
            "  Attempting uninstall: nvidia-cublas-cu12\n",
            "    Found existing installation: nvidia-cublas-cu12 12.5.3.2\n",
            "    Uninstalling nvidia-cublas-cu12-12.5.3.2:\n",
            "      Successfully uninstalled nvidia-cublas-cu12-12.5.3.2\n",
            "  Attempting uninstall: nvidia-cusparse-cu12\n",
            "    Found existing installation: nvidia-cusparse-cu12 12.5.1.3\n",
            "    Uninstalling nvidia-cusparse-cu12-12.5.1.3:\n",
            "      Successfully uninstalled nvidia-cusparse-cu12-12.5.1.3\n",
            "  Attempting uninstall: nvidia-cudnn-cu12\n",
            "    Found existing installation: nvidia-cudnn-cu12 9.3.0.75\n",
            "    Uninstalling nvidia-cudnn-cu12-9.3.0.75:\n",
            "      Successfully uninstalled nvidia-cudnn-cu12-9.3.0.75\n",
            "  Attempting uninstall: nvidia-cusolver-cu12\n",
            "    Found existing installation: nvidia-cusolver-cu12 11.6.3.83\n",
            "    Uninstalling nvidia-cusolver-cu12-11.6.3.83:\n",
            "      Successfully uninstalled nvidia-cusolver-cu12-11.6.3.83\n",
            "Successfully installed nvidia-cublas-cu12-12.4.5.8 nvidia-cuda-cupti-cu12-12.4.127 nvidia-cuda-nvrtc-cu12-12.4.127 nvidia-cuda-runtime-cu12-12.4.127 nvidia-cudnn-cu12-9.1.0.70 nvidia-cufft-cu12-11.2.1.3 nvidia-curand-cu12-10.3.5.147 nvidia-cusolver-cu12-11.6.1.9 nvidia-cusparse-cu12-12.3.1.170 nvidia-nvjitlink-cu12-12.4.127\n"
          ]
        }
      ],
      "source": [
        "!pip install torch"
      ]
    },
    {
      "cell_type": "code",
      "source": [
        "import torch"
      ],
      "metadata": {
        "id": "lFFiZoDENxyh"
      },
      "execution_count": 1,
      "outputs": []
    },
    {
      "cell_type": "code",
      "source": [
        "torch.__version__"
      ],
      "metadata": {
        "id": "4ekHR3K4NzPV",
        "colab": {
          "base_uri": "https://localhost:8080/",
          "height": 36
        },
        "outputId": "a62e1512-fdd8-4295-f8d6-ccd7e9c5e399"
      },
      "execution_count": 2,
      "outputs": [
        {
          "output_type": "execute_result",
          "data": {
            "text/plain": [
              "'2.6.0+cu124'"
            ],
            "application/vnd.google.colaboratory.intrinsic+json": {
              "type": "string"
            }
          },
          "metadata": {},
          "execution_count": 2
        }
      ]
    },
    {
      "cell_type": "code",
      "source": [
        "if torch.cuda.is_available():\n",
        "    print(\"GPU is available\")\n",
        "else:\n",
        "    print(\"GPU is not available\")"
      ],
      "metadata": {
        "colab": {
          "base_uri": "https://localhost:8080/"
        },
        "id": "JOdEmiWfZYlJ",
        "outputId": "80e95c34-0445-4e12-c1dc-a5b43aaf6eab"
      },
      "execution_count": null,
      "outputs": [
        {
          "output_type": "stream",
          "name": "stdout",
          "text": [
            "GPU is not available\n"
          ]
        }
      ]
    },
    {
      "cell_type": "code",
      "source": [
        "a=torch.empty(2,3)"
      ],
      "metadata": {
        "id": "oIEZJQ2PZfmi"
      },
      "execution_count": null,
      "outputs": []
    },
    {
      "cell_type": "code",
      "source": [
        "type(a)"
      ],
      "metadata": {
        "colab": {
          "base_uri": "https://localhost:8080/"
        },
        "id": "gpMTwx6QZtcu",
        "outputId": "e971ed43-00e4-43cc-fe1b-0a5a0295fdf5"
      },
      "execution_count": null,
      "outputs": [
        {
          "output_type": "execute_result",
          "data": {
            "text/plain": [
              "torch.Tensor"
            ]
          },
          "metadata": {},
          "execution_count": 8
        }
      ]
    },
    {
      "cell_type": "code",
      "source": [
        "x = torch.tensor([1.0,2.0,3.0])"
      ],
      "metadata": {
        "id": "GlRQP2SlZyxV"
      },
      "execution_count": null,
      "outputs": []
    },
    {
      "cell_type": "code",
      "source": [
        "zeros= torch.zeros((2,3))"
      ],
      "metadata": {
        "id": "oDslbDztblTf"
      },
      "execution_count": null,
      "outputs": []
    },
    {
      "cell_type": "code",
      "source": [
        "ones = torch.ones((2,3))"
      ],
      "metadata": {
        "id": "KEJUifelbr2x"
      },
      "execution_count": null,
      "outputs": []
    },
    {
      "cell_type": "code",
      "source": [
        "rand = torch.rand((2,3))"
      ],
      "metadata": {
        "id": "8KFHKwpZbyq1"
      },
      "execution_count": null,
      "outputs": []
    },
    {
      "cell_type": "code",
      "source": [
        "a = torch.tensor([1,2,3])\n",
        "b = torch.tensor([4,5,6])\n",
        "a+b"
      ],
      "metadata": {
        "colab": {
          "base_uri": "https://localhost:8080/"
        },
        "id": "PsXT-53Ub2qB",
        "outputId": "e00d60ed-7ea6-4328-ae6b-1a161f328264"
      },
      "execution_count": null,
      "outputs": [
        {
          "output_type": "execute_result",
          "data": {
            "text/plain": [
              "tensor([5, 7, 9])"
            ]
          },
          "metadata": {},
          "execution_count": 13
        }
      ]
    },
    {
      "cell_type": "code",
      "source": [
        "a*b"
      ],
      "metadata": {
        "colab": {
          "base_uri": "https://localhost:8080/"
        },
        "id": "P563mYe5b77k",
        "outputId": "d519406d-546f-4575-ef60-ec03cad16315"
      },
      "execution_count": null,
      "outputs": [
        {
          "output_type": "execute_result",
          "data": {
            "text/plain": [
              "tensor([ 4, 10, 18])"
            ]
          },
          "metadata": {},
          "execution_count": 14
        }
      ]
    },
    {
      "cell_type": "code",
      "source": [
        "a/b"
      ],
      "metadata": {
        "colab": {
          "base_uri": "https://localhost:8080/"
        },
        "id": "P77ujXNtcCI5",
        "outputId": "967f736b-28a9-4562-d6c0-8a059d25cb82"
      },
      "execution_count": null,
      "outputs": [
        {
          "output_type": "execute_result",
          "data": {
            "text/plain": [
              "tensor([0.2500, 0.4000, 0.5000])"
            ]
          },
          "metadata": {},
          "execution_count": 16
        }
      ]
    },
    {
      "cell_type": "markdown",
      "source": [
        "# shapes"
      ],
      "metadata": {
        "id": "jLzrrbA6cPYf"
      }
    },
    {
      "cell_type": "code",
      "source": [
        "y = torch.rand(2,3)\n",
        "y"
      ],
      "metadata": {
        "colab": {
          "base_uri": "https://localhost:8080/"
        },
        "id": "i5iuaZdrcQgM",
        "outputId": "6caae600-f15a-4355-a314-836273bc609b"
      },
      "execution_count": null,
      "outputs": [
        {
          "output_type": "execute_result",
          "data": {
            "text/plain": [
              "tensor([[0.3640, 0.6421, 0.0669],\n",
              "        [0.6505, 0.0928, 0.0769]])"
            ]
          },
          "metadata": {},
          "execution_count": 20
        }
      ]
    },
    {
      "cell_type": "code",
      "source": [
        "y.view(3,2)"
      ],
      "metadata": {
        "colab": {
          "base_uri": "https://localhost:8080/"
        },
        "id": "KuULm2ygcdMf",
        "outputId": "6800b349-b632-4468-f97c-affe0abc5874"
      },
      "execution_count": null,
      "outputs": [
        {
          "output_type": "execute_result",
          "data": {
            "text/plain": [
              "tensor([[0.3640, 0.6421],\n",
              "        [0.0669, 0.6505],\n",
              "        [0.0928, 0.0769]])"
            ]
          },
          "metadata": {},
          "execution_count": 21
        }
      ]
    },
    {
      "cell_type": "code",
      "source": [
        "y.reshape(3,2)"
      ],
      "metadata": {
        "colab": {
          "base_uri": "https://localhost:8080/"
        },
        "id": "diM3F1RqcdPO",
        "outputId": "31ad0ae1-fef5-4d9f-c23b-2f1945e1b50f"
      },
      "execution_count": null,
      "outputs": [
        {
          "output_type": "execute_result",
          "data": {
            "text/plain": [
              "tensor([[0.3640, 0.6421],\n",
              "        [0.0669, 0.6505],\n",
              "        [0.0928, 0.0769]])"
            ]
          },
          "metadata": {},
          "execution_count": 22
        }
      ]
    },
    {
      "cell_type": "code",
      "source": [
        "y.reshape(6,1)==y.view(6,1)"
      ],
      "metadata": {
        "colab": {
          "base_uri": "https://localhost:8080/"
        },
        "id": "-GEe579AcdR3",
        "outputId": "3fc5cf40-7384-4d8c-c94f-5027f5703c0e"
      },
      "execution_count": null,
      "outputs": [
        {
          "output_type": "execute_result",
          "data": {
            "text/plain": [
              "tensor([[True],\n",
              "        [True],\n",
              "        [True],\n",
              "        [True],\n",
              "        [True],\n",
              "        [True]])"
            ]
          },
          "metadata": {},
          "execution_count": 23
        }
      ]
    },
    {
      "cell_type": "code",
      "source": [
        "device = torch.device('cuda' if torch.cuda.is_available() else 'cpu')\n",
        "device"
      ],
      "metadata": {
        "colab": {
          "base_uri": "https://localhost:8080/"
        },
        "id": "9fPWoDk8cdVY",
        "outputId": "2e03e58f-5018-452e-da5a-1e8bb62c2a8e"
      },
      "execution_count": null,
      "outputs": [
        {
          "output_type": "execute_result",
          "data": {
            "text/plain": [
              "device(type='cpu')"
            ]
          },
          "metadata": {},
          "execution_count": 24
        }
      ]
    },
    {
      "cell_type": "code",
      "source": [
        "x = torch.tensor([1,2,3]).to(device)\n",
        "x"
      ],
      "metadata": {
        "colab": {
          "base_uri": "https://localhost:8080/"
        },
        "id": "uzzvacXWdIbN",
        "outputId": "59602856-48cc-46ff-d7e2-1759ed7e4164"
      },
      "execution_count": null,
      "outputs": [
        {
          "output_type": "execute_result",
          "data": {
            "text/plain": [
              "tensor([1, 2, 3])"
            ]
          },
          "metadata": {},
          "execution_count": 26
        }
      ]
    },
    {
      "cell_type": "code",
      "source": [
        "x = torch.tensor([2.0,4.0,6.0],requires_grad=True)\n",
        "\n",
        "y = x**3 + 4*x\n",
        "\n",
        "\n",
        "y.sum().backward()\n",
        "\n",
        "print(x.grad)"
      ],
      "metadata": {
        "colab": {
          "base_uri": "https://localhost:8080/"
        },
        "id": "KDFsLIiUdRMM",
        "outputId": "e14c543b-9ddc-42cd-ae73-060e37890bb7"
      },
      "execution_count": null,
      "outputs": [
        {
          "output_type": "stream",
          "name": "stdout",
          "text": [
            "tensor([ 16.,  52., 112.])\n"
          ]
        }
      ]
    },
    {
      "cell_type": "markdown",
      "source": [
        "# assingemnet\n"
      ],
      "metadata": {
        "id": "JAvRzlG2e94q"
      }
    },
    {
      "cell_type": "code",
      "source": [
        "x = torch.randn(3,3)*2\n",
        "print(x.reshape(1,9))"
      ],
      "metadata": {
        "colab": {
          "base_uri": "https://localhost:8080/"
        },
        "id": "lcF1IVTyej2g",
        "outputId": "5892a3f9-2e6b-4492-ec8f-f4f6d1397711"
      },
      "execution_count": null,
      "outputs": [
        {
          "output_type": "stream",
          "name": "stdout",
          "text": [
            "tensor([[-0.9934, -3.2554,  2.3287, -1.1948, -3.2171, -0.3201, -2.0161, -0.3083,\n",
            "         -4.2717]])\n"
          ]
        }
      ]
    },
    {
      "cell_type": "code",
      "source": [
        "x = torch.tensor([2.0, 4.0, 6.0], requires_grad=True)\n",
        "y = x**3 + 4*x\n",
        "y.sum().backward()\n",
        "print(x.grad)\n"
      ],
      "metadata": {
        "colab": {
          "base_uri": "https://localhost:8080/"
        },
        "id": "GoRAB2zTfM45",
        "outputId": "bb8c31ef-93c0-4c02-8a72-c4f856e0e704"
      },
      "execution_count": null,
      "outputs": [
        {
          "output_type": "stream",
          "name": "stdout",
          "text": [
            "tensor([ 16.,  52., 112.])\n"
          ]
        }
      ]
    },
    {
      "cell_type": "code",
      "source": [
        "x = torch.randn(3,3).to(device)\n",
        "y = torch.randn(3,3).to(device)\n",
        "print(torch.matmul(x,y))"
      ],
      "metadata": {
        "colab": {
          "base_uri": "https://localhost:8080/"
        },
        "id": "VYIOmqxjfVU3",
        "outputId": "e58e85f4-856a-43e8-d3a3-322645cc2e77"
      },
      "execution_count": null,
      "outputs": [
        {
          "output_type": "stream",
          "name": "stdout",
          "text": [
            "tensor([[ 0.1954,  1.8609, -0.7342],\n",
            "        [-2.1501, -0.9816,  2.1438],\n",
            "        [-1.5519, -2.1949,  1.4653]])\n"
          ]
        }
      ]
    },
    {
      "cell_type": "code",
      "source": [
        "x = torch.tensor(\n",
        "    [\n",
        "        [2,3],\n",
        "        [4,5],\n",
        "        [6,7]\n",
        "    ]\n",
        ")"
      ],
      "metadata": {
        "id": "bro_7V5BgDBu"
      },
      "execution_count": null,
      "outputs": []
    },
    {
      "cell_type": "code",
      "source": [
        "x"
      ],
      "metadata": {
        "colab": {
          "base_uri": "https://localhost:8080/"
        },
        "id": "Zex58jcViIeV",
        "outputId": "26bb1fbb-80be-4d22-fad5-c63d5e57b42f"
      },
      "execution_count": null,
      "outputs": [
        {
          "output_type": "execute_result",
          "data": {
            "text/plain": [
              "tensor([[2, 3],\n",
              "        [4, 5],\n",
              "        [6, 7]])"
            ]
          },
          "metadata": {},
          "execution_count": 81
        }
      ]
    },
    {
      "cell_type": "code",
      "source": [
        "shape= x.shape\n",
        "print(shape)"
      ],
      "metadata": {
        "colab": {
          "base_uri": "https://localhost:8080/"
        },
        "id": "n_PZyBpEhDRr",
        "outputId": "28818ddd-6917-4b46-9d38-1d3ba6bc98c5"
      },
      "execution_count": null,
      "outputs": [
        {
          "output_type": "stream",
          "name": "stdout",
          "text": [
            "torch.Size([3, 2])\n"
          ]
        }
      ]
    },
    {
      "cell_type": "code",
      "source": [
        "y =x.reshape(2,3)"
      ],
      "metadata": {
        "id": "JwL8ScDkggSZ"
      },
      "execution_count": null,
      "outputs": []
    },
    {
      "cell_type": "code",
      "source": [
        "y"
      ],
      "metadata": {
        "colab": {
          "base_uri": "https://localhost:8080/"
        },
        "id": "VCeJpmIliCZU",
        "outputId": "3d5fcb89-bc8d-407e-83b0-0ecf87da19fd"
      },
      "execution_count": null,
      "outputs": [
        {
          "output_type": "execute_result",
          "data": {
            "text/plain": [
              "tensor([[2, 3, 4],\n",
              "        [5, 6, 7]])"
            ]
          },
          "metadata": {},
          "execution_count": 71
        }
      ]
    },
    {
      "cell_type": "code",
      "source": [
        "print(x)"
      ],
      "metadata": {
        "colab": {
          "base_uri": "https://localhost:8080/"
        },
        "id": "4A4mNNs2glfi",
        "outputId": "09c4fd49-4090-4bde-e769-445b351af391"
      },
      "execution_count": null,
      "outputs": [
        {
          "output_type": "stream",
          "name": "stdout",
          "text": [
            "tensor([[2, 3],\n",
            "        [4, 5],\n",
            "        [6, 7]])\n"
          ]
        }
      ]
    },
    {
      "cell_type": "code",
      "source": [
        "x.view(2,3)*2"
      ],
      "metadata": {
        "colab": {
          "base_uri": "https://localhost:8080/"
        },
        "id": "b_3VE0eegpae",
        "outputId": "28a7458e-b970-4906-8bfb-4548dcb2c4e3"
      },
      "execution_count": null,
      "outputs": [
        {
          "output_type": "execute_result",
          "data": {
            "text/plain": [
              "tensor([[ 4,  6,  8],\n",
              "        [10, 12, 14]])"
            ]
          },
          "metadata": {},
          "execution_count": 83
        }
      ]
    },
    {
      "cell_type": "code",
      "source": [
        "x"
      ],
      "metadata": {
        "colab": {
          "base_uri": "https://localhost:8080/"
        },
        "id": "gTENNS3ogtqu",
        "outputId": "2528b44e-a88a-43c7-aea2-6bba44ff9bad"
      },
      "execution_count": null,
      "outputs": [
        {
          "output_type": "execute_result",
          "data": {
            "text/plain": [
              "tensor([[2, 3],\n",
              "        [4, 5],\n",
              "        [6, 7]])"
            ]
          },
          "metadata": {},
          "execution_count": 84
        }
      ]
    },
    {
      "cell_type": "code",
      "source": [],
      "metadata": {
        "id": "ElvM0a8UjWaf"
      },
      "execution_count": null,
      "outputs": []
    },
    {
      "cell_type": "markdown",
      "source": [
        "# Autograd"
      ],
      "metadata": {
        "id": "w4ZuLLP_jwuF"
      }
    },
    {
      "cell_type": "code",
      "source": [
        "x = torch.tensor([3.0],requires_grad=True)\n",
        "y = x**3 + 4*x\n",
        "y.backward()\n",
        "print(x.grad)\n",
        "print(y.grad_fn)"
      ],
      "metadata": {
        "colab": {
          "base_uri": "https://localhost:8080/"
        },
        "id": "uRzSx3EbjWlf",
        "outputId": "78dc26ba-94f0-4d86-b4f3-e67f06a0ae41"
      },
      "execution_count": null,
      "outputs": [
        {
          "output_type": "stream",
          "name": "stdout",
          "text": [
            "tensor([31.])\n",
            "<AddBackward0 object at 0x7ff2a865b370>\n"
          ]
        }
      ]
    },
    {
      "cell_type": "code",
      "source": [
        "x = torch.tensor([2.0, 4.0, 6.0], requires_grad=True)\n",
        "y = x**3 + 4*x\n",
        "y.backward(torch.ones_like(x))\n",
        "print(x.grad)"
      ],
      "metadata": {
        "colab": {
          "base_uri": "https://localhost:8080/"
        },
        "id": "6sXaLdXFn9lO",
        "outputId": "3b11afd0-e953-48d8-f821-e8b65a6260e0"
      },
      "execution_count": null,
      "outputs": [
        {
          "output_type": "stream",
          "name": "stdout",
          "text": [
            "tensor([ 16.,  52., 112.])\n"
          ]
        }
      ]
    },
    {
      "cell_type": "code",
      "source": [
        "x = torch.tensor([1.0, 2.0, 3.0], requires_grad=True)\n",
        "y = x ** 2\n",
        "# y is now a vector: [1.0, 4.0, 9.0]\n",
        "\n",
        "# Need to give gradient for vector outputs\n",
        "y.backward(torch.tensor([1.0, 1.0, 1.0]))\n",
        "\n",
        "print(x.grad)  # dy/dx = 2x → [2.0, 4.0, 6.0]"
      ],
      "metadata": {
        "colab": {
          "base_uri": "https://localhost:8080/"
        },
        "id": "5fmLKFmJoTag",
        "outputId": "4e71ff61-6d04-432b-b001-5acf7ba01c60"
      },
      "execution_count": null,
      "outputs": [
        {
          "output_type": "stream",
          "name": "stdout",
          "text": [
            "tensor([2., 4., 6.])\n"
          ]
        }
      ]
    },
    {
      "cell_type": "code",
      "source": [
        "class Square(torch.autograd.Function):\n",
        "    @staticmethod\n",
        "    def forward(ctx, input):\n",
        "        ctx.save_for_backward(input)\n",
        "        return input ** 2\n",
        "\n",
        "    @staticmethod\n",
        "    def backward(ctx, grad_output):\n",
        "        input, = ctx.saved_tensors\n",
        "        return grad_output * 2 * input\n",
        "\n",
        "x = torch.tensor([2.0, 3.0], requires_grad=True)\n",
        "y = Square.apply(x)\n",
        "y.sum().backward()\n",
        "print(x)\n",
        "print(y)\n",
        "print(x.grad)  # [4.0, 6.0]\n"
      ],
      "metadata": {
        "colab": {
          "base_uri": "https://localhost:8080/"
        },
        "id": "orZolvfurirC",
        "outputId": "a4e47cc1-ff07-4078-c3cd-dff39b1c4c93"
      },
      "execution_count": null,
      "outputs": [
        {
          "output_type": "stream",
          "name": "stdout",
          "text": [
            "tensor([2., 3.], requires_grad=True)\n",
            "tensor([4., 9.], grad_fn=<SquareBackward>)\n",
            "tensor([4., 6.])\n"
          ]
        }
      ]
    },
    {
      "cell_type": "code",
      "source": [
        "x = torch.tensor([2.0,3.0],requires_grad=True)\n",
        "y= x**2\n",
        "print(x,y)\n",
        "y.backward(torch.ones_like(x))\n",
        "x.grad"
      ],
      "metadata": {
        "colab": {
          "base_uri": "https://localhost:8080/"
        },
        "id": "FFAamqpH068J",
        "outputId": "9009a462-19c1-4900-f71b-0c0e2ec95b6d"
      },
      "execution_count": null,
      "outputs": [
        {
          "output_type": "stream",
          "name": "stdout",
          "text": [
            "tensor([2., 3.], requires_grad=True) tensor([4., 9.], grad_fn=<PowBackward0>)\n"
          ]
        },
        {
          "output_type": "execute_result",
          "data": {
            "text/plain": [
              "tensor([4., 6.])"
            ]
          },
          "metadata": {},
          "execution_count": 122
        }
      ]
    },
    {
      "cell_type": "code",
      "source": [
        "class derivative(torch.autograd.Function):\n",
        "    @staticmethod\n",
        "    def forward(ctx,input):\n",
        "        ctx.save_for_backward(input)\n",
        "\n",
        "        return torch.cos(input**2 + 1) * 2 * input\n",
        "\n",
        "    @staticmethod\n",
        "    def backward(ctx,grad_output):\n",
        "        input, = ctx.saved_tensors\n",
        "        return grad_output * (-torch.sin(input**2 + 1) * 4 * input**2 + torch.cos(input**2 + 1) * 2)\n",
        "\n",
        "\n",
        "x = torch.tensor([1.0,2.0,3.0], requires_grad=True)\n",
        "y = derivative.apply(x)\n",
        "y.sum().backward()\n",
        "print(x.grad)\n"
      ],
      "metadata": {
        "colab": {
          "base_uri": "https://localhost:8080/"
        },
        "id": "zeKSr6UCskyL",
        "outputId": "90624c36-673f-4a7b-b539-83d567e9f9b9"
      },
      "execution_count": null,
      "outputs": [
        {
          "output_type": "stream",
          "name": "stdout",
          "text": [
            "tensor([-4.4695, 15.9101, 17.9066])\n"
          ]
        }
      ]
    },
    {
      "cell_type": "code",
      "source": [
        "class LogSumExp(torch.autograd.Function):\n",
        "    @staticmethod\n",
        "    def forward(ctx, input):\n",
        "        ctx.save_for_backward(input)\n",
        "        return torch.log(torch.sum(torch.exp(input)))\n",
        "\n",
        "    @staticmethod\n",
        "    def backward(ctx, grad_output):\n",
        "        input, = ctx.saved_tensors\n",
        "        softmax = torch.exp(input) / torch.sum(torch.exp(input))\n",
        "        return grad_output * softmax\n",
        "\n",
        "x = torch.tensor([1.0, 2.0, 3.0], requires_grad=True)\n",
        "y = LogSumExp.apply(x)\n",
        "y.backward()\n",
        "print(x.grad)  # should match softmax\n"
      ],
      "metadata": {
        "colab": {
          "base_uri": "https://localhost:8080/"
        },
        "id": "Rl5Fkpb8t5fV",
        "outputId": "b45ec5d2-4431-4c9c-cdf2-20aa22080470"
      },
      "execution_count": null,
      "outputs": [
        {
          "output_type": "stream",
          "name": "stdout",
          "text": [
            "tensor([0.0900, 0.2447, 0.6652])\n"
          ]
        }
      ]
    },
    {
      "cell_type": "code",
      "source": [
        "x = torch.randn(64, 3, 224, 224, requires_grad=True)\n",
        "y = x.pow(2).mean()\n",
        "y.backward()\n",
        "print(x.grad.shape)\n"
      ],
      "metadata": {
        "colab": {
          "base_uri": "https://localhost:8080/"
        },
        "id": "k3HNczKDyqog",
        "outputId": "3f492808-7839-4b0c-d713-359dd5022572"
      },
      "execution_count": null,
      "outputs": [
        {
          "output_type": "stream",
          "name": "stdout",
          "text": [
            "torch.Size([64, 3, 224, 224])\n"
          ]
        }
      ]
    },
    {
      "cell_type": "markdown",
      "source": [
        "# Linear regression simple\n",
        "\n"
      ],
      "metadata": {
        "id": "dtKi-gMZ7PTr"
      }
    },
    {
      "cell_type": "code",
      "source": [
        "x = torch.tensor([6.7])\n",
        "y = torch.tensor([0.0])\n",
        "\n",
        "w = torch.tensor([1.0])\n",
        "b = torch.tensor([0.0])"
      ],
      "metadata": {
        "id": "sNKdNCSpzR0j"
      },
      "execution_count": null,
      "outputs": []
    },
    {
      "cell_type": "code",
      "source": [
        "def binary_cross_entropy_loss(target,prediction):\n",
        "    epsilon = 1e-8  # To prevent log(0)\n",
        "    prediction = torch.clamp(prediction, epsilon, 1 - epsilon)\n",
        "    return -(target * torch.log(prediction) + (1 - target) * torch.log(1 - prediction))"
      ],
      "metadata": {
        "id": "k26dUmJO8FRY"
      },
      "execution_count": null,
      "outputs": []
    },
    {
      "cell_type": "code",
      "source": [
        "#forward pass\n",
        "z = w*x + b\n",
        "y_pred = torch.sigmoid(z)\n",
        "\n",
        "loss =binary_cross_entropy_loss(y,y_pred)"
      ],
      "metadata": {
        "id": "crOcPuSfzXnc"
      },
      "execution_count": null,
      "outputs": []
    },
    {
      "cell_type": "code",
      "source": [
        "loss"
      ],
      "metadata": {
        "colab": {
          "base_uri": "https://localhost:8080/"
        },
        "id": "k7lTc61P9RuX",
        "outputId": "b575aeda-c351-4c99-c755-ddae4b5e0910"
      },
      "execution_count": null,
      "outputs": [
        {
          "output_type": "execute_result",
          "data": {
            "text/plain": [
              "tensor([6.7012])"
            ]
          },
          "metadata": {},
          "execution_count": 151
        }
      ]
    },
    {
      "cell_type": "code",
      "source": [
        "#drivaties\n",
        "\n",
        "# Derivatives:\n",
        "# 1. dL/d(y_pred): Loss with respect to the prediction (y_pred)\n",
        "dloss_dy_pred = (y_pred - y)/(y_pred*(1-y_pred))\n",
        "\n",
        "# 2. dy_pred/dz: Prediction (y_pred) with respect to z (sigmoid derivative)\n",
        "dy_pred_dz = y_pred * (1 - y_pred)\n",
        "\n",
        "# 3. dz/dw and dz/db: z with respect to w and b\n",
        "dz_dw = x  # dz/dw = x\n",
        "dz_db = 1  # dz/db = 1 (bias contributes directly to z)\n",
        "\n",
        "dL_dw = dloss_dy_pred * dy_pred_dz * dz_dw\n",
        "dL_db = dloss_dy_pred * dy_pred_dz * dz_db"
      ],
      "metadata": {
        "id": "Ibekoy5V9XE3"
      },
      "execution_count": null,
      "outputs": []
    },
    {
      "cell_type": "code",
      "source": [
        "print(dL_dw)\n",
        "print(dL_db)"
      ],
      "metadata": {
        "colab": {
          "base_uri": "https://localhost:8080/"
        },
        "id": "32rIXAvd-cUA",
        "outputId": "87456f5b-f233-4b93-843e-fb8ef0196c41"
      },
      "execution_count": null,
      "outputs": [
        {
          "output_type": "stream",
          "name": "stdout",
          "text": [
            "tensor([6.6918])\n",
            "tensor([0.9988])\n"
          ]
        }
      ]
    },
    {
      "cell_type": "markdown",
      "source": [
        "# now using pytorch\n"
      ],
      "metadata": {
        "id": "EbFqUdBP-nmL"
      }
    },
    {
      "cell_type": "code",
      "source": [
        "x = torch.tensor([6.7])\n",
        "y = torch.tensor([0.0])\n",
        "\n",
        "w = torch.tensor([1.0],requires_grad=True)\n",
        "b = torch.tensor([0.0],requires_grad=True)"
      ],
      "metadata": {
        "id": "QegbtuS2-gzK"
      },
      "execution_count": null,
      "outputs": []
    },
    {
      "cell_type": "markdown",
      "source": [],
      "metadata": {
        "id": "zC9wbeAV_x9P"
      }
    },
    {
      "cell_type": "code",
      "source": [
        "z = w*x +b\n",
        "y_pred = torch.sigmoid(z)\n",
        "\n",
        "loss = binary_cross_entropy_loss(y,y_pred)"
      ],
      "metadata": {
        "id": "Hqh0Y2In-x0Q"
      },
      "execution_count": null,
      "outputs": []
    },
    {
      "cell_type": "code",
      "source": [
        "loss"
      ],
      "metadata": {
        "colab": {
          "base_uri": "https://localhost:8080/"
        },
        "id": "Y6g4ia4N_1Nq",
        "outputId": "be209c07-88cb-4945-985b-ae90767f3e55"
      },
      "execution_count": null,
      "outputs": [
        {
          "output_type": "execute_result",
          "data": {
            "text/plain": [
              "tensor([6.7012], grad_fn=<NegBackward0>)"
            ]
          },
          "metadata": {},
          "execution_count": 178
        }
      ]
    },
    {
      "cell_type": "code",
      "source": [
        "z"
      ],
      "metadata": {
        "colab": {
          "base_uri": "https://localhost:8080/"
        },
        "id": "a_HWW2TF_7oI",
        "outputId": "e4b6f39e-1a5a-4bcd-db66-a0cf11295ecf"
      },
      "execution_count": null,
      "outputs": [
        {
          "output_type": "execute_result",
          "data": {
            "text/plain": [
              "tensor([6.7000], grad_fn=<AddBackward0>)"
            ]
          },
          "metadata": {},
          "execution_count": 179
        }
      ]
    },
    {
      "cell_type": "code",
      "source": [
        "y_pred"
      ],
      "metadata": {
        "colab": {
          "base_uri": "https://localhost:8080/"
        },
        "id": "Fvbx-Rco_9Yh",
        "outputId": "e69ccb6e-1543-41ff-df1e-0b73cbd03fc1"
      },
      "execution_count": null,
      "outputs": [
        {
          "output_type": "execute_result",
          "data": {
            "text/plain": [
              "tensor([0.9988], grad_fn=<SigmoidBackward0>)"
            ]
          },
          "metadata": {},
          "execution_count": 180
        }
      ]
    },
    {
      "cell_type": "code",
      "source": [
        "loss.backward()"
      ],
      "metadata": {
        "id": "4iUXjf7pACvn"
      },
      "execution_count": null,
      "outputs": []
    },
    {
      "cell_type": "code",
      "source": [
        "print(w.grad,b.grad)"
      ],
      "metadata": {
        "colab": {
          "base_uri": "https://localhost:8080/"
        },
        "id": "mvJrzLLdAGRT",
        "outputId": "7f936401-c6c8-4034-8f70-eb36800572aa"
      },
      "execution_count": null,
      "outputs": [
        {
          "output_type": "stream",
          "name": "stdout",
          "text": [
            "tensor([6.6918]) tensor([0.9988])\n"
          ]
        }
      ]
    },
    {
      "cell_type": "code",
      "source": [
        "x = torch.tensor([2.0,3.0,4.0],requires_grad=True)\n"
      ],
      "metadata": {
        "id": "Ipp7UmXSANX7"
      },
      "execution_count": null,
      "outputs": []
    },
    {
      "cell_type": "code",
      "source": [
        "y = (x**2).mean()"
      ],
      "metadata": {
        "id": "k5ETk6EnCue6"
      },
      "execution_count": null,
      "outputs": []
    },
    {
      "cell_type": "code",
      "source": [
        "y"
      ],
      "metadata": {
        "colab": {
          "base_uri": "https://localhost:8080/"
        },
        "id": "fnigfURGBJnH",
        "outputId": "8ed8a09a-f472-4eaf-e7fb-f8c4b80aeea5"
      },
      "execution_count": null,
      "outputs": [
        {
          "output_type": "execute_result",
          "data": {
            "text/plain": [
              "tensor(9.6667, grad_fn=<MeanBackward0>)"
            ]
          },
          "metadata": {},
          "execution_count": 242
        }
      ]
    },
    {
      "cell_type": "code",
      "source": [
        "y.backward()"
      ],
      "metadata": {
        "id": "SILzX3HIBLtX"
      },
      "execution_count": null,
      "outputs": []
    },
    {
      "cell_type": "code",
      "source": [
        "x.grad"
      ],
      "metadata": {
        "colab": {
          "base_uri": "https://localhost:8080/"
        },
        "id": "taC8wGztBOGB",
        "outputId": "c9b9a3d1-4ef8-4d81-f94d-aca0bd57db46"
      },
      "execution_count": null,
      "outputs": [
        {
          "output_type": "execute_result",
          "data": {
            "text/plain": [
              "tensor([1.3333, 2.0000, 2.6667])"
            ]
          },
          "metadata": {},
          "execution_count": 244
        }
      ]
    },
    {
      "cell_type": "markdown",
      "source": [
        "# clearing gradient"
      ],
      "metadata": {
        "id": "kcdT-NugDIYL"
      }
    },
    {
      "cell_type": "code",
      "source": [
        "x.grad.zero_()"
      ],
      "metadata": {
        "colab": {
          "base_uri": "https://localhost:8080/"
        },
        "id": "oGhTAfttBosS",
        "outputId": "bbbc1489-82d1-44f6-e68c-e462a652044e"
      },
      "execution_count": null,
      "outputs": [
        {
          "output_type": "execute_result",
          "data": {
            "text/plain": [
              "tensor([0., 0., 0.])"
            ]
          },
          "metadata": {},
          "execution_count": 245
        }
      ]
    },
    {
      "cell_type": "code",
      "source": [],
      "metadata": {
        "id": "i_RNIQCzDDK-"
      },
      "execution_count": null,
      "outputs": []
    },
    {
      "cell_type": "code",
      "source": [
        "x = torch.tensor([1.0,2.0,3.0,4.0])\n",
        "y= torch.tensor([2.0,4.0,6.0,8.0])\n",
        "w = torch.rand(1,requires_grad=True)\n",
        "b = torch.randn(1,requires_grad=True)\n",
        "learning_rate = 0.01\n",
        "epochs =100\n",
        "\n",
        "for epoch in range(epochs):\n",
        "  y_pred=w*x+b\n",
        "  loss = ((y_pred-y)**2).mean()\n",
        "  loss.backward()\n",
        "  with torch.no_grad():\n",
        "    w -= learning_rate * w.grad\n",
        "    b -= learning_rate * b.grad\n",
        "  w.grad.zero_()\n",
        "  b.grad.zero_()\n",
        "print(f\"epoch {epoch+1}: w = {w.item()}, b = {b.item()}, loss = {loss.item()}\")\n"
      ],
      "metadata": {
        "colab": {
          "base_uri": "https://localhost:8080/"
        },
        "id": "zK6gvwTPFn2P",
        "outputId": "780dfcaa-7824-4c0c-eabe-cdfd73607196"
      },
      "execution_count": null,
      "outputs": [
        {
          "output_type": "stream",
          "name": "stdout",
          "text": [
            "epoch 100: w = 1.702099084854126, b = 0.8758648037910461, loss = 0.12889233231544495\n"
          ]
        }
      ]
    },
    {
      "cell_type": "code",
      "source": [
        "X = torch.tensor([[1.0], [2.0], [3.0], [4.0]])  # shape (4,1)\n",
        "Y = torch.tensor([[2.0], [4.0], [6.0], [8.0]])\n",
        "\n",
        "\n",
        "\n",
        "w = torch.rand(1,requires_grad=True)\n",
        "b = torch.randn(1,requires_grad=True)\n",
        "learning_rate = 0.01\n",
        "epochs =100\n",
        "\n",
        "for epoch in range(epochs):\n",
        "  y_pred=w*x+b\n",
        "  loss = ((y_pred-y)**2).mean()\n",
        "  loss.backward()\n",
        "  with torch.no_grad():\n",
        "    w -= learning_rate * w.grad\n",
        "    b -= learning_rate * b.grad\n",
        "    loss_val = loss.item()\n",
        "    w_val = w.item()\n",
        "    b_val = b.item()\n",
        "\n",
        "  w.grad.zero_()\n",
        "  b.grad.zero_()\n",
        "\n",
        "  print(f\"Epoch {epoch+1}: w = {w_val:.4f}, b = {b_val:.4f}, loss = {loss_val:.4f}\")\n"
      ],
      "metadata": {
        "colab": {
          "base_uri": "https://localhost:8080/"
        },
        "id": "Sj26Q5mTFQPh",
        "outputId": "2c6337cb-248d-49f8-b529-81c7e65493df"
      },
      "execution_count": null,
      "outputs": [
        {
          "output_type": "stream",
          "name": "stdout",
          "text": [
            "Epoch 1: w = 1.0062, b = 0.2675, loss = 8.8411\n",
            "Epoch 2: w = 1.1419, b = 0.3118, loss = 6.1495\n",
            "Epoch 3: w = 1.2550, b = 0.3485, loss = 4.2818\n",
            "Epoch 4: w = 1.3494, b = 0.3788, loss = 2.9857\n",
            "Epoch 5: w = 1.4280, b = 0.4037, loss = 2.0863\n",
            "Epoch 6: w = 1.4936, b = 0.4242, loss = 1.4622\n",
            "Epoch 7: w = 1.5484, b = 0.4411, loss = 1.0290\n",
            "Epoch 8: w = 1.5941, b = 0.4548, loss = 0.7283\n",
            "Epoch 9: w = 1.6322, b = 0.4660, loss = 0.5196\n",
            "Epoch 10: w = 1.6641, b = 0.4751, loss = 0.3747\n",
            "Epoch 11: w = 1.6907, b = 0.4824, loss = 0.2741\n",
            "Epoch 12: w = 1.7130, b = 0.4882, loss = 0.2042\n",
            "Epoch 13: w = 1.7316, b = 0.4928, loss = 0.1556\n",
            "Epoch 14: w = 1.7472, b = 0.4964, loss = 0.1218\n",
            "Epoch 15: w = 1.7603, b = 0.4991, loss = 0.0982\n",
            "Epoch 16: w = 1.7713, b = 0.5011, loss = 0.0818\n",
            "Epoch 17: w = 1.7806, b = 0.5025, loss = 0.0703\n",
            "Epoch 18: w = 1.7884, b = 0.5034, loss = 0.0623\n",
            "Epoch 19: w = 1.7949, b = 0.5039, loss = 0.0566\n",
            "Epoch 20: w = 1.8005, b = 0.5041, loss = 0.0526\n",
            "Epoch 21: w = 1.8052, b = 0.5040, loss = 0.0498\n",
            "Epoch 22: w = 1.8092, b = 0.5036, loss = 0.0477\n",
            "Epoch 23: w = 1.8127, b = 0.5031, loss = 0.0462\n",
            "Epoch 24: w = 1.8156, b = 0.5024, loss = 0.0451\n",
            "Epoch 25: w = 1.8182, b = 0.5016, loss = 0.0442\n",
            "Epoch 26: w = 1.8204, b = 0.5006, loss = 0.0435\n",
            "Epoch 27: w = 1.8223, b = 0.4996, loss = 0.0430\n",
            "Epoch 28: w = 1.8239, b = 0.4985, loss = 0.0425\n",
            "Epoch 29: w = 1.8254, b = 0.4973, loss = 0.0422\n",
            "Epoch 30: w = 1.8267, b = 0.4961, loss = 0.0418\n",
            "Epoch 31: w = 1.8279, b = 0.4949, loss = 0.0415\n",
            "Epoch 32: w = 1.8290, b = 0.4936, loss = 0.0412\n",
            "Epoch 33: w = 1.8300, b = 0.4922, loss = 0.0409\n",
            "Epoch 34: w = 1.8309, b = 0.4909, loss = 0.0407\n",
            "Epoch 35: w = 1.8317, b = 0.4895, loss = 0.0404\n",
            "Epoch 36: w = 1.8325, b = 0.4882, loss = 0.0401\n",
            "Epoch 37: w = 1.8332, b = 0.4868, loss = 0.0399\n",
            "Epoch 38: w = 1.8339, b = 0.4854, loss = 0.0396\n",
            "Epoch 39: w = 1.8345, b = 0.4840, loss = 0.0394\n",
            "Epoch 40: w = 1.8351, b = 0.4826, loss = 0.0392\n",
            "Epoch 41: w = 1.8357, b = 0.4812, loss = 0.0389\n",
            "Epoch 42: w = 1.8363, b = 0.4798, loss = 0.0387\n",
            "Epoch 43: w = 1.8369, b = 0.4784, loss = 0.0385\n",
            "Epoch 44: w = 1.8374, b = 0.4769, loss = 0.0382\n",
            "Epoch 45: w = 1.8380, b = 0.4755, loss = 0.0380\n",
            "Epoch 46: w = 1.8385, b = 0.4741, loss = 0.0378\n",
            "Epoch 47: w = 1.8390, b = 0.4727, loss = 0.0376\n",
            "Epoch 48: w = 1.8395, b = 0.4713, loss = 0.0373\n",
            "Epoch 49: w = 1.8400, b = 0.4699, loss = 0.0371\n",
            "Epoch 50: w = 1.8405, b = 0.4685, loss = 0.0369\n",
            "Epoch 51: w = 1.8410, b = 0.4671, loss = 0.0367\n",
            "Epoch 52: w = 1.8415, b = 0.4657, loss = 0.0364\n",
            "Epoch 53: w = 1.8420, b = 0.4643, loss = 0.0362\n",
            "Epoch 54: w = 1.8425, b = 0.4629, loss = 0.0360\n",
            "Epoch 55: w = 1.8430, b = 0.4616, loss = 0.0358\n",
            "Epoch 56: w = 1.8434, b = 0.4602, loss = 0.0356\n",
            "Epoch 57: w = 1.8439, b = 0.4588, loss = 0.0354\n",
            "Epoch 58: w = 1.8444, b = 0.4574, loss = 0.0352\n",
            "Epoch 59: w = 1.8449, b = 0.4561, loss = 0.0349\n",
            "Epoch 60: w = 1.8453, b = 0.4547, loss = 0.0347\n",
            "Epoch 61: w = 1.8458, b = 0.4533, loss = 0.0345\n",
            "Epoch 62: w = 1.8463, b = 0.4520, loss = 0.0343\n",
            "Epoch 63: w = 1.8467, b = 0.4506, loss = 0.0341\n",
            "Epoch 64: w = 1.8472, b = 0.4493, loss = 0.0339\n",
            "Epoch 65: w = 1.8476, b = 0.4479, loss = 0.0337\n",
            "Epoch 66: w = 1.8481, b = 0.4466, loss = 0.0335\n",
            "Epoch 67: w = 1.8486, b = 0.4453, loss = 0.0333\n",
            "Epoch 68: w = 1.8490, b = 0.4439, loss = 0.0331\n",
            "Epoch 69: w = 1.8495, b = 0.4426, loss = 0.0329\n",
            "Epoch 70: w = 1.8499, b = 0.4413, loss = 0.0327\n",
            "Epoch 71: w = 1.8504, b = 0.4399, loss = 0.0325\n",
            "Epoch 72: w = 1.8508, b = 0.4386, loss = 0.0323\n",
            "Epoch 73: w = 1.8513, b = 0.4373, loss = 0.0321\n",
            "Epoch 74: w = 1.8517, b = 0.4360, loss = 0.0319\n",
            "Epoch 75: w = 1.8521, b = 0.4347, loss = 0.0317\n",
            "Epoch 76: w = 1.8526, b = 0.4334, loss = 0.0316\n",
            "Epoch 77: w = 1.8530, b = 0.4321, loss = 0.0314\n",
            "Epoch 78: w = 1.8535, b = 0.4308, loss = 0.0312\n",
            "Epoch 79: w = 1.8539, b = 0.4295, loss = 0.0310\n",
            "Epoch 80: w = 1.8543, b = 0.4282, loss = 0.0308\n",
            "Epoch 81: w = 1.8548, b = 0.4270, loss = 0.0306\n",
            "Epoch 82: w = 1.8552, b = 0.4257, loss = 0.0304\n",
            "Epoch 83: w = 1.8557, b = 0.4244, loss = 0.0303\n",
            "Epoch 84: w = 1.8561, b = 0.4231, loss = 0.0301\n",
            "Epoch 85: w = 1.8565, b = 0.4219, loss = 0.0299\n",
            "Epoch 86: w = 1.8569, b = 0.4206, loss = 0.0297\n",
            "Epoch 87: w = 1.8574, b = 0.4193, loss = 0.0295\n",
            "Epoch 88: w = 1.8578, b = 0.4181, loss = 0.0294\n",
            "Epoch 89: w = 1.8582, b = 0.4168, loss = 0.0292\n",
            "Epoch 90: w = 1.8587, b = 0.4156, loss = 0.0290\n",
            "Epoch 91: w = 1.8591, b = 0.4143, loss = 0.0288\n",
            "Epoch 92: w = 1.8595, b = 0.4131, loss = 0.0287\n",
            "Epoch 93: w = 1.8599, b = 0.4119, loss = 0.0285\n",
            "Epoch 94: w = 1.8603, b = 0.4106, loss = 0.0283\n",
            "Epoch 95: w = 1.8608, b = 0.4094, loss = 0.0282\n",
            "Epoch 96: w = 1.8612, b = 0.4082, loss = 0.0280\n",
            "Epoch 97: w = 1.8616, b = 0.4070, loss = 0.0278\n",
            "Epoch 98: w = 1.8620, b = 0.4057, loss = 0.0277\n",
            "Epoch 99: w = 1.8624, b = 0.4045, loss = 0.0275\n",
            "Epoch 100: w = 1.8628, b = 0.4033, loss = 0.0273\n"
          ]
        }
      ]
    },
    {
      "cell_type": "code",
      "source": [],
      "metadata": {
        "id": "R-KcKlc7JB90"
      },
      "execution_count": null,
      "outputs": []
    },
    {
      "cell_type": "markdown",
      "source": [
        "# pipeline\n"
      ],
      "metadata": {
        "id": "eC-ep_0Ak9BT"
      }
    },
    {
      "cell_type": "code",
      "source": [
        "import pandas as pd\n",
        "import numpy as np\n",
        "import matplotlib.pyplot as plt\n",
        "from sklearn.model_selection import train_test_split\n",
        "from sklearn.preprocessing import StandardScaler\n",
        "from sklearn.preprocessing import LabelEncoder\n"
      ],
      "metadata": {
        "id": "wI8BRzqLJggH"
      },
      "execution_count": 3,
      "outputs": []
    },
    {
      "cell_type": "code",
      "source": [
        "df = pd.read_csv('/content/breast-cancer.csv')"
      ],
      "metadata": {
        "id": "SQPIJMQ-lp5Y"
      },
      "execution_count": 27,
      "outputs": []
    },
    {
      "cell_type": "code",
      "metadata": {
        "colab": {
          "base_uri": "https://localhost:8080/",
          "height": 243
        },
        "id": "99a89cd7",
        "outputId": "a4c1ba70-a2e5-4a19-a4f1-5726c4673dae"
      },
      "source": [
        "df.head()"
      ],
      "execution_count": 28,
      "outputs": [
        {
          "output_type": "execute_result",
          "data": {
            "text/plain": [
              "         id diagnosis  ...  symmetry_worst  fractal_dimension_worst\n",
              "0    842302         M  ...          0.4601                  0.11890\n",
              "1    842517         M  ...          0.2750                  0.08902\n",
              "2  84300903         M  ...          0.3613                  0.08758\n",
              "3  84348301         M  ...          0.6638                  0.17300\n",
              "4  84358402         M  ...          0.2364                  0.07678\n",
              "\n",
              "[5 rows x 32 columns]"
            ],
            "text/html": [
              "\n",
              "  <div id=\"df-839a4330-d076-4b46-ae7c-d1ff22831fe0\" class=\"colab-df-container\">\n",
              "    <div>\n",
              "<style scoped>\n",
              "    .dataframe tbody tr th:only-of-type {\n",
              "        vertical-align: middle;\n",
              "    }\n",
              "\n",
              "    .dataframe tbody tr th {\n",
              "        vertical-align: top;\n",
              "    }\n",
              "\n",
              "    .dataframe thead th {\n",
              "        text-align: right;\n",
              "    }\n",
              "</style>\n",
              "<table border=\"1\" class=\"dataframe\">\n",
              "  <thead>\n",
              "    <tr style=\"text-align: right;\">\n",
              "      <th></th>\n",
              "      <th>id</th>\n",
              "      <th>diagnosis</th>\n",
              "      <th>radius_mean</th>\n",
              "      <th>texture_mean</th>\n",
              "      <th>perimeter_mean</th>\n",
              "      <th>area_mean</th>\n",
              "      <th>smoothness_mean</th>\n",
              "      <th>compactness_mean</th>\n",
              "      <th>concavity_mean</th>\n",
              "      <th>concave points_mean</th>\n",
              "      <th>symmetry_mean</th>\n",
              "      <th>fractal_dimension_mean</th>\n",
              "      <th>radius_se</th>\n",
              "      <th>texture_se</th>\n",
              "      <th>perimeter_se</th>\n",
              "      <th>area_se</th>\n",
              "      <th>smoothness_se</th>\n",
              "      <th>compactness_se</th>\n",
              "      <th>concavity_se</th>\n",
              "      <th>concave points_se</th>\n",
              "      <th>symmetry_se</th>\n",
              "      <th>fractal_dimension_se</th>\n",
              "      <th>radius_worst</th>\n",
              "      <th>texture_worst</th>\n",
              "      <th>perimeter_worst</th>\n",
              "      <th>area_worst</th>\n",
              "      <th>smoothness_worst</th>\n",
              "      <th>compactness_worst</th>\n",
              "      <th>concavity_worst</th>\n",
              "      <th>concave points_worst</th>\n",
              "      <th>symmetry_worst</th>\n",
              "      <th>fractal_dimension_worst</th>\n",
              "    </tr>\n",
              "  </thead>\n",
              "  <tbody>\n",
              "    <tr>\n",
              "      <th>0</th>\n",
              "      <td>842302</td>\n",
              "      <td>M</td>\n",
              "      <td>17.99</td>\n",
              "      <td>10.38</td>\n",
              "      <td>122.80</td>\n",
              "      <td>1001.0</td>\n",
              "      <td>0.11840</td>\n",
              "      <td>0.27760</td>\n",
              "      <td>0.3001</td>\n",
              "      <td>0.14710</td>\n",
              "      <td>0.2419</td>\n",
              "      <td>0.07871</td>\n",
              "      <td>1.0950</td>\n",
              "      <td>0.9053</td>\n",
              "      <td>8.589</td>\n",
              "      <td>153.40</td>\n",
              "      <td>0.006399</td>\n",
              "      <td>0.04904</td>\n",
              "      <td>0.05373</td>\n",
              "      <td>0.01587</td>\n",
              "      <td>0.03003</td>\n",
              "      <td>0.006193</td>\n",
              "      <td>25.38</td>\n",
              "      <td>17.33</td>\n",
              "      <td>184.60</td>\n",
              "      <td>2019.0</td>\n",
              "      <td>0.1622</td>\n",
              "      <td>0.6656</td>\n",
              "      <td>0.7119</td>\n",
              "      <td>0.2654</td>\n",
              "      <td>0.4601</td>\n",
              "      <td>0.11890</td>\n",
              "    </tr>\n",
              "    <tr>\n",
              "      <th>1</th>\n",
              "      <td>842517</td>\n",
              "      <td>M</td>\n",
              "      <td>20.57</td>\n",
              "      <td>17.77</td>\n",
              "      <td>132.90</td>\n",
              "      <td>1326.0</td>\n",
              "      <td>0.08474</td>\n",
              "      <td>0.07864</td>\n",
              "      <td>0.0869</td>\n",
              "      <td>0.07017</td>\n",
              "      <td>0.1812</td>\n",
              "      <td>0.05667</td>\n",
              "      <td>0.5435</td>\n",
              "      <td>0.7339</td>\n",
              "      <td>3.398</td>\n",
              "      <td>74.08</td>\n",
              "      <td>0.005225</td>\n",
              "      <td>0.01308</td>\n",
              "      <td>0.01860</td>\n",
              "      <td>0.01340</td>\n",
              "      <td>0.01389</td>\n",
              "      <td>0.003532</td>\n",
              "      <td>24.99</td>\n",
              "      <td>23.41</td>\n",
              "      <td>158.80</td>\n",
              "      <td>1956.0</td>\n",
              "      <td>0.1238</td>\n",
              "      <td>0.1866</td>\n",
              "      <td>0.2416</td>\n",
              "      <td>0.1860</td>\n",
              "      <td>0.2750</td>\n",
              "      <td>0.08902</td>\n",
              "    </tr>\n",
              "    <tr>\n",
              "      <th>2</th>\n",
              "      <td>84300903</td>\n",
              "      <td>M</td>\n",
              "      <td>19.69</td>\n",
              "      <td>21.25</td>\n",
              "      <td>130.00</td>\n",
              "      <td>1203.0</td>\n",
              "      <td>0.10960</td>\n",
              "      <td>0.15990</td>\n",
              "      <td>0.1974</td>\n",
              "      <td>0.12790</td>\n",
              "      <td>0.2069</td>\n",
              "      <td>0.05999</td>\n",
              "      <td>0.7456</td>\n",
              "      <td>0.7869</td>\n",
              "      <td>4.585</td>\n",
              "      <td>94.03</td>\n",
              "      <td>0.006150</td>\n",
              "      <td>0.04006</td>\n",
              "      <td>0.03832</td>\n",
              "      <td>0.02058</td>\n",
              "      <td>0.02250</td>\n",
              "      <td>0.004571</td>\n",
              "      <td>23.57</td>\n",
              "      <td>25.53</td>\n",
              "      <td>152.50</td>\n",
              "      <td>1709.0</td>\n",
              "      <td>0.1444</td>\n",
              "      <td>0.4245</td>\n",
              "      <td>0.4504</td>\n",
              "      <td>0.2430</td>\n",
              "      <td>0.3613</td>\n",
              "      <td>0.08758</td>\n",
              "    </tr>\n",
              "    <tr>\n",
              "      <th>3</th>\n",
              "      <td>84348301</td>\n",
              "      <td>M</td>\n",
              "      <td>11.42</td>\n",
              "      <td>20.38</td>\n",
              "      <td>77.58</td>\n",
              "      <td>386.1</td>\n",
              "      <td>0.14250</td>\n",
              "      <td>0.28390</td>\n",
              "      <td>0.2414</td>\n",
              "      <td>0.10520</td>\n",
              "      <td>0.2597</td>\n",
              "      <td>0.09744</td>\n",
              "      <td>0.4956</td>\n",
              "      <td>1.1560</td>\n",
              "      <td>3.445</td>\n",
              "      <td>27.23</td>\n",
              "      <td>0.009110</td>\n",
              "      <td>0.07458</td>\n",
              "      <td>0.05661</td>\n",
              "      <td>0.01867</td>\n",
              "      <td>0.05963</td>\n",
              "      <td>0.009208</td>\n",
              "      <td>14.91</td>\n",
              "      <td>26.50</td>\n",
              "      <td>98.87</td>\n",
              "      <td>567.7</td>\n",
              "      <td>0.2098</td>\n",
              "      <td>0.8663</td>\n",
              "      <td>0.6869</td>\n",
              "      <td>0.2575</td>\n",
              "      <td>0.6638</td>\n",
              "      <td>0.17300</td>\n",
              "    </tr>\n",
              "    <tr>\n",
              "      <th>4</th>\n",
              "      <td>84358402</td>\n",
              "      <td>M</td>\n",
              "      <td>20.29</td>\n",
              "      <td>14.34</td>\n",
              "      <td>135.10</td>\n",
              "      <td>1297.0</td>\n",
              "      <td>0.10030</td>\n",
              "      <td>0.13280</td>\n",
              "      <td>0.1980</td>\n",
              "      <td>0.10430</td>\n",
              "      <td>0.1809</td>\n",
              "      <td>0.05883</td>\n",
              "      <td>0.7572</td>\n",
              "      <td>0.7813</td>\n",
              "      <td>5.438</td>\n",
              "      <td>94.44</td>\n",
              "      <td>0.011490</td>\n",
              "      <td>0.02461</td>\n",
              "      <td>0.05688</td>\n",
              "      <td>0.01885</td>\n",
              "      <td>0.01756</td>\n",
              "      <td>0.005115</td>\n",
              "      <td>22.54</td>\n",
              "      <td>16.67</td>\n",
              "      <td>152.20</td>\n",
              "      <td>1575.0</td>\n",
              "      <td>0.1374</td>\n",
              "      <td>0.2050</td>\n",
              "      <td>0.4000</td>\n",
              "      <td>0.1625</td>\n",
              "      <td>0.2364</td>\n",
              "      <td>0.07678</td>\n",
              "    </tr>\n",
              "  </tbody>\n",
              "</table>\n",
              "</div>\n",
              "    <div class=\"colab-df-buttons\">\n",
              "\n",
              "  <div class=\"colab-df-container\">\n",
              "    <button class=\"colab-df-convert\" onclick=\"convertToInteractive('df-839a4330-d076-4b46-ae7c-d1ff22831fe0')\"\n",
              "            title=\"Convert this dataframe to an interactive table.\"\n",
              "            style=\"display:none;\">\n",
              "\n",
              "  <svg xmlns=\"http://www.w3.org/2000/svg\" height=\"24px\" viewBox=\"0 -960 960 960\">\n",
              "    <path d=\"M120-120v-720h720v720H120Zm60-500h600v-160H180v160Zm220 220h160v-160H400v160Zm0 220h160v-160H400v160ZM180-400h160v-160H180v160Zm440 0h160v-160H620v160ZM180-180h160v-160H180v160Zm440 0h160v-160H620v160Z\"/>\n",
              "  </svg>\n",
              "    </button>\n",
              "\n",
              "  <style>\n",
              "    .colab-df-container {\n",
              "      display:flex;\n",
              "      gap: 12px;\n",
              "    }\n",
              "\n",
              "    .colab-df-convert {\n",
              "      background-color: #E8F0FE;\n",
              "      border: none;\n",
              "      border-radius: 50%;\n",
              "      cursor: pointer;\n",
              "      display: none;\n",
              "      fill: #1967D2;\n",
              "      height: 32px;\n",
              "      padding: 0 0 0 0;\n",
              "      width: 32px;\n",
              "    }\n",
              "\n",
              "    .colab-df-convert:hover {\n",
              "      background-color: #E2EBFA;\n",
              "      box-shadow: 0px 1px 2px rgba(60, 64, 67, 0.3), 0px 1px 3px 1px rgba(60, 64, 67, 0.15);\n",
              "      fill: #174EA6;\n",
              "    }\n",
              "\n",
              "    .colab-df-buttons div {\n",
              "      margin-bottom: 4px;\n",
              "    }\n",
              "\n",
              "    [theme=dark] .colab-df-convert {\n",
              "      background-color: #3B4455;\n",
              "      fill: #D2E3FC;\n",
              "    }\n",
              "\n",
              "    [theme=dark] .colab-df-convert:hover {\n",
              "      background-color: #434B5C;\n",
              "      box-shadow: 0px 1px 3px 1px rgba(0, 0, 0, 0.15);\n",
              "      filter: drop-shadow(0px 1px 2px rgba(0, 0, 0, 0.3));\n",
              "      fill: #FFFFFF;\n",
              "    }\n",
              "  </style>\n",
              "\n",
              "    <script>\n",
              "      const buttonEl =\n",
              "        document.querySelector('#df-839a4330-d076-4b46-ae7c-d1ff22831fe0 button.colab-df-convert');\n",
              "      buttonEl.style.display =\n",
              "        google.colab.kernel.accessAllowed ? 'block' : 'none';\n",
              "\n",
              "      async function convertToInteractive(key) {\n",
              "        const element = document.querySelector('#df-839a4330-d076-4b46-ae7c-d1ff22831fe0');\n",
              "        const dataTable =\n",
              "          await google.colab.kernel.invokeFunction('convertToInteractive',\n",
              "                                                    [key], {});\n",
              "        if (!dataTable) return;\n",
              "\n",
              "        const docLinkHtml = 'Like what you see? Visit the ' +\n",
              "          '<a target=\"_blank\" href=https://colab.research.google.com/notebooks/data_table.ipynb>data table notebook</a>'\n",
              "          + ' to learn more about interactive tables.';\n",
              "        element.innerHTML = '';\n",
              "        dataTable['output_type'] = 'display_data';\n",
              "        await google.colab.output.renderOutput(dataTable, element);\n",
              "        const docLink = document.createElement('div');\n",
              "        docLink.innerHTML = docLinkHtml;\n",
              "        element.appendChild(docLink);\n",
              "      }\n",
              "    </script>\n",
              "  </div>\n",
              "\n",
              "\n",
              "    <div id=\"df-e50ff931-4d01-4ecc-a55f-dc30eb868924\">\n",
              "      <button class=\"colab-df-quickchart\" onclick=\"quickchart('df-e50ff931-4d01-4ecc-a55f-dc30eb868924')\"\n",
              "                title=\"Suggest charts\"\n",
              "                style=\"display:none;\">\n",
              "\n",
              "<svg xmlns=\"http://www.w3.org/2000/svg\" height=\"24px\"viewBox=\"0 0 24 24\"\n",
              "     width=\"24px\">\n",
              "    <g>\n",
              "        <path d=\"M19 3H5c-1.1 0-2 .9-2 2v14c0 1.1.9 2 2 2h14c1.1 0 2-.9 2-2V5c0-1.1-.9-2-2-2zM9 17H7v-7h2v7zm4 0h-2V7h2v10zm4 0h-2v-4h2v4z\"/>\n",
              "    </g>\n",
              "</svg>\n",
              "      </button>\n",
              "\n",
              "<style>\n",
              "  .colab-df-quickchart {\n",
              "      --bg-color: #E8F0FE;\n",
              "      --fill-color: #1967D2;\n",
              "      --hover-bg-color: #E2EBFA;\n",
              "      --hover-fill-color: #174EA6;\n",
              "      --disabled-fill-color: #AAA;\n",
              "      --disabled-bg-color: #DDD;\n",
              "  }\n",
              "\n",
              "  [theme=dark] .colab-df-quickchart {\n",
              "      --bg-color: #3B4455;\n",
              "      --fill-color: #D2E3FC;\n",
              "      --hover-bg-color: #434B5C;\n",
              "      --hover-fill-color: #FFFFFF;\n",
              "      --disabled-bg-color: #3B4455;\n",
              "      --disabled-fill-color: #666;\n",
              "  }\n",
              "\n",
              "  .colab-df-quickchart {\n",
              "    background-color: var(--bg-color);\n",
              "    border: none;\n",
              "    border-radius: 50%;\n",
              "    cursor: pointer;\n",
              "    display: none;\n",
              "    fill: var(--fill-color);\n",
              "    height: 32px;\n",
              "    padding: 0;\n",
              "    width: 32px;\n",
              "  }\n",
              "\n",
              "  .colab-df-quickchart:hover {\n",
              "    background-color: var(--hover-bg-color);\n",
              "    box-shadow: 0 1px 2px rgba(60, 64, 67, 0.3), 0 1px 3px 1px rgba(60, 64, 67, 0.15);\n",
              "    fill: var(--button-hover-fill-color);\n",
              "  }\n",
              "\n",
              "  .colab-df-quickchart-complete:disabled,\n",
              "  .colab-df-quickchart-complete:disabled:hover {\n",
              "    background-color: var(--disabled-bg-color);\n",
              "    fill: var(--disabled-fill-color);\n",
              "    box-shadow: none;\n",
              "  }\n",
              "\n",
              "  .colab-df-spinner {\n",
              "    border: 2px solid var(--fill-color);\n",
              "    border-color: transparent;\n",
              "    border-bottom-color: var(--fill-color);\n",
              "    animation:\n",
              "      spin 1s steps(1) infinite;\n",
              "  }\n",
              "\n",
              "  @keyframes spin {\n",
              "    0% {\n",
              "      border-color: transparent;\n",
              "      border-bottom-color: var(--fill-color);\n",
              "      border-left-color: var(--fill-color);\n",
              "    }\n",
              "    20% {\n",
              "      border-color: transparent;\n",
              "      border-left-color: var(--fill-color);\n",
              "      border-top-color: var(--fill-color);\n",
              "    }\n",
              "    30% {\n",
              "      border-color: transparent;\n",
              "      border-left-color: var(--fill-color);\n",
              "      border-top-color: var(--fill-color);\n",
              "      border-right-color: var(--fill-color);\n",
              "    }\n",
              "    40% {\n",
              "      border-color: transparent;\n",
              "      border-right-color: var(--fill-color);\n",
              "      border-top-color: var(--fill-color);\n",
              "    }\n",
              "    60% {\n",
              "      border-color: transparent;\n",
              "      border-right-color: var(--fill-color);\n",
              "    }\n",
              "    80% {\n",
              "      border-color: transparent;\n",
              "      border-right-color: var(--fill-color);\n",
              "      border-bottom-color: var(--fill-color);\n",
              "    }\n",
              "    90% {\n",
              "      border-color: transparent;\n",
              "      border-bottom-color: var(--fill-color);\n",
              "    }\n",
              "  }\n",
              "</style>\n",
              "\n",
              "      <script>\n",
              "        async function quickchart(key) {\n",
              "          const quickchartButtonEl =\n",
              "            document.querySelector('#' + key + ' button');\n",
              "          quickchartButtonEl.disabled = true;  // To prevent multiple clicks.\n",
              "          quickchartButtonEl.classList.add('colab-df-spinner');\n",
              "          try {\n",
              "            const charts = await google.colab.kernel.invokeFunction(\n",
              "                'suggestCharts', [key], {});\n",
              "          } catch (error) {\n",
              "            console.error('Error during call to suggestCharts:', error);\n",
              "          }\n",
              "          quickchartButtonEl.classList.remove('colab-df-spinner');\n",
              "          quickchartButtonEl.classList.add('colab-df-quickchart-complete');\n",
              "        }\n",
              "        (() => {\n",
              "          let quickchartButtonEl =\n",
              "            document.querySelector('#df-e50ff931-4d01-4ecc-a55f-dc30eb868924 button');\n",
              "          quickchartButtonEl.style.display =\n",
              "            google.colab.kernel.accessAllowed ? 'block' : 'none';\n",
              "        })();\n",
              "      </script>\n",
              "    </div>\n",
              "\n",
              "    </div>\n",
              "  </div>\n"
            ],
            "application/vnd.google.colaboratory.intrinsic+json": {
              "type": "dataframe",
              "variable_name": "df"
            }
          },
          "metadata": {},
          "execution_count": 28
        }
      ]
    },
    {
      "cell_type": "code",
      "source": [
        "df.shape"
      ],
      "metadata": {
        "colab": {
          "base_uri": "https://localhost:8080/"
        },
        "id": "1j88szyhmTIz",
        "outputId": "793612d8-9276-43a3-dad9-e62a6c1cdca7"
      },
      "execution_count": 29,
      "outputs": [
        {
          "output_type": "execute_result",
          "data": {
            "text/plain": [
              "(569, 32)"
            ]
          },
          "metadata": {},
          "execution_count": 29
        }
      ]
    },
    {
      "cell_type": "code",
      "source": [
        "df.drop('id',axis=1,inplace=True)"
      ],
      "metadata": {
        "id": "MvsEYWPNmg-X"
      },
      "execution_count": 30,
      "outputs": []
    },
    {
      "cell_type": "code",
      "source": [
        "df.shape"
      ],
      "metadata": {
        "colab": {
          "base_uri": "https://localhost:8080/"
        },
        "id": "Go-ohOqtoLrK",
        "outputId": "b633ab94-05c7-46bd-9f3c-cbce7190ddff"
      },
      "execution_count": 31,
      "outputs": [
        {
          "output_type": "execute_result",
          "data": {
            "text/plain": [
              "(569, 31)"
            ]
          },
          "metadata": {},
          "execution_count": 31
        }
      ]
    },
    {
      "cell_type": "code",
      "source": [],
      "metadata": {
        "id": "HR-5PAzg3TEH"
      },
      "execution_count": 145,
      "outputs": []
    },
    {
      "cell_type": "code",
      "source": [
        "X_train,X_test,y_train,y_test = train_test_split(df.drop('diagnosis',axis=1),df['diagnosis'],test_size=0.2,random_state=42)"
      ],
      "metadata": {
        "id": "jx9voeuNoMDV"
      },
      "execution_count": 33,
      "outputs": []
    },
    {
      "cell_type": "code",
      "source": [
        "scaler = StandardScaler()\n",
        "X_train = scaler.fit_transform(X_train)\n",
        "X_test = scaler.transform(X_test)"
      ],
      "metadata": {
        "id": "ulWlIr0Vo7Gw"
      },
      "execution_count": 39,
      "outputs": []
    },
    {
      "cell_type": "code",
      "source": [
        "X_train"
      ],
      "metadata": {
        "colab": {
          "base_uri": "https://localhost:8080/"
        },
        "id": "ZAgRzdXApObj",
        "outputId": "6377fa8a-ea1e-4614-ca48-4b1ad71c1312"
      },
      "execution_count": 40,
      "outputs": [
        {
          "output_type": "execute_result",
          "data": {
            "text/plain": [
              "array([[-1.44075296, -0.43531947, -1.36208497, ...,  0.9320124 ,\n",
              "         2.09724217,  1.88645014],\n",
              "       [ 1.97409619,  1.73302577,  2.09167167, ...,  2.6989469 ,\n",
              "         1.89116053,  2.49783848],\n",
              "       [-1.39998202, -1.24962228, -1.34520926, ..., -0.97023893,\n",
              "         0.59760192,  0.0578942 ],\n",
              "       ...,\n",
              "       [ 0.04880192, -0.55500086, -0.06512547, ..., -1.23903365,\n",
              "        -0.70863864, -1.27145475],\n",
              "       [-0.03896885,  0.10207345, -0.03137406, ...,  1.05001236,\n",
              "         0.43432185,  1.21336207],\n",
              "       [-0.54860557,  0.31327591, -0.60350155, ..., -0.61102866,\n",
              "        -0.3345212 , -0.84628745]])"
            ]
          },
          "metadata": {},
          "execution_count": 40
        }
      ]
    },
    {
      "cell_type": "code",
      "source": [
        "y_train"
      ],
      "metadata": {
        "colab": {
          "base_uri": "https://localhost:8080/",
          "height": 458
        },
        "id": "kamh5oNPpiSl",
        "outputId": "943295d6-a4b4-4d5f-c541-76b682b842c9"
      },
      "execution_count": 41,
      "outputs": [
        {
          "output_type": "execute_result",
          "data": {
            "text/plain": [
              "68     B\n",
              "181    M\n",
              "63     B\n",
              "248    B\n",
              "60     B\n",
              "      ..\n",
              "71     B\n",
              "106    B\n",
              "270    B\n",
              "435    M\n",
              "102    B\n",
              "Name: diagnosis, Length: 455, dtype: object"
            ],
            "text/html": [
              "<div>\n",
              "<style scoped>\n",
              "    .dataframe tbody tr th:only-of-type {\n",
              "        vertical-align: middle;\n",
              "    }\n",
              "\n",
              "    .dataframe tbody tr th {\n",
              "        vertical-align: top;\n",
              "    }\n",
              "\n",
              "    .dataframe thead th {\n",
              "        text-align: right;\n",
              "    }\n",
              "</style>\n",
              "<table border=\"1\" class=\"dataframe\">\n",
              "  <thead>\n",
              "    <tr style=\"text-align: right;\">\n",
              "      <th></th>\n",
              "      <th>diagnosis</th>\n",
              "    </tr>\n",
              "  </thead>\n",
              "  <tbody>\n",
              "    <tr>\n",
              "      <th>68</th>\n",
              "      <td>B</td>\n",
              "    </tr>\n",
              "    <tr>\n",
              "      <th>181</th>\n",
              "      <td>M</td>\n",
              "    </tr>\n",
              "    <tr>\n",
              "      <th>63</th>\n",
              "      <td>B</td>\n",
              "    </tr>\n",
              "    <tr>\n",
              "      <th>248</th>\n",
              "      <td>B</td>\n",
              "    </tr>\n",
              "    <tr>\n",
              "      <th>60</th>\n",
              "      <td>B</td>\n",
              "    </tr>\n",
              "    <tr>\n",
              "      <th>...</th>\n",
              "      <td>...</td>\n",
              "    </tr>\n",
              "    <tr>\n",
              "      <th>71</th>\n",
              "      <td>B</td>\n",
              "    </tr>\n",
              "    <tr>\n",
              "      <th>106</th>\n",
              "      <td>B</td>\n",
              "    </tr>\n",
              "    <tr>\n",
              "      <th>270</th>\n",
              "      <td>B</td>\n",
              "    </tr>\n",
              "    <tr>\n",
              "      <th>435</th>\n",
              "      <td>M</td>\n",
              "    </tr>\n",
              "    <tr>\n",
              "      <th>102</th>\n",
              "      <td>B</td>\n",
              "    </tr>\n",
              "  </tbody>\n",
              "</table>\n",
              "<p>455 rows × 1 columns</p>\n",
              "</div><br><label><b>dtype:</b> object</label>"
            ]
          },
          "metadata": {},
          "execution_count": 41
        }
      ]
    },
    {
      "cell_type": "code",
      "source": [
        "label_encoder = LabelEncoder()\n",
        "y_train = label_encoder.fit_transform(y_train)\n",
        "y_test = label_encoder.transform(y_test)"
      ],
      "metadata": {
        "id": "9L1KxJPIpkLz"
      },
      "execution_count": 42,
      "outputs": []
    },
    {
      "cell_type": "code",
      "source": [
        "y_train"
      ],
      "metadata": {
        "colab": {
          "base_uri": "https://localhost:8080/"
        },
        "id": "uGOaw_C2porJ",
        "outputId": "29fcfdc6-7ba9-411a-a6ca-e0e2e4c45c80"
      },
      "execution_count": 43,
      "outputs": [
        {
          "output_type": "execute_result",
          "data": {
            "text/plain": [
              "array([0, 1, 0, 0, 0, 1, 0, 0, 0, 1, 0, 1, 1, 0, 0, 1, 1, 1, 0, 0, 0, 1,\n",
              "       0, 0, 0, 1, 0, 1, 0, 0, 1, 0, 1, 1, 1, 0, 1, 0, 0, 0, 0, 1, 1, 0,\n",
              "       0, 0, 0, 0, 0, 0, 1, 0, 0, 0, 0, 1, 0, 0, 0, 0, 0, 0, 1, 0, 0, 0,\n",
              "       0, 0, 0, 1, 1, 1, 0, 0, 1, 0, 1, 0, 0, 0, 0, 1, 0, 0, 1, 0, 0, 0,\n",
              "       1, 0, 1, 1, 0, 0, 0, 1, 0, 0, 0, 0, 1, 0, 0, 0, 0, 0, 1, 0, 1, 1,\n",
              "       0, 0, 1, 0, 0, 0, 0, 0, 0, 0, 1, 1, 1, 0, 0, 1, 0, 0, 1, 0, 1, 0,\n",
              "       1, 0, 1, 0, 0, 1, 0, 0, 0, 1, 0, 1, 0, 1, 0, 1, 0, 0, 1, 0, 0, 0,\n",
              "       0, 1, 0, 0, 0, 1, 0, 0, 1, 0, 0, 1, 0, 0, 0, 0, 0, 0, 0, 1, 0, 0,\n",
              "       0, 1, 0, 1, 0, 0, 0, 1, 0, 1, 1, 0, 0, 1, 0, 1, 1, 1, 0, 0, 0, 1,\n",
              "       0, 0, 1, 0, 1, 0, 0, 0, 1, 0, 1, 0, 0, 1, 1, 0, 0, 1, 0, 1, 1, 0,\n",
              "       1, 1, 0, 0, 1, 1, 1, 0, 0, 0, 0, 1, 0, 1, 1, 1, 1, 0, 0, 0, 0, 0,\n",
              "       0, 0, 0, 1, 1, 0, 0, 1, 0, 0, 0, 0, 0, 1, 0, 0, 1, 1, 0, 1, 0, 1,\n",
              "       0, 0, 0, 0, 0, 0, 1, 0, 0, 1, 0, 0, 0, 0, 0, 0, 1, 0, 0, 1, 0, 1,\n",
              "       1, 1, 0, 1, 0, 0, 1, 1, 1, 0, 0, 0, 0, 0, 0, 0, 1, 0, 0, 0, 1, 0,\n",
              "       0, 1, 1, 0, 1, 0, 1, 1, 0, 0, 1, 0, 1, 1, 0, 1, 1, 0, 0, 1, 0, 1,\n",
              "       0, 0, 1, 0, 0, 1, 1, 1, 0, 0, 0, 1, 1, 0, 1, 1, 0, 0, 0, 1, 0, 1,\n",
              "       1, 1, 1, 0, 0, 1, 0, 0, 1, 1, 1, 1, 1, 1, 0, 0, 0, 0, 0, 0, 0, 1,\n",
              "       1, 1, 1, 0, 0, 0, 0, 1, 0, 1, 0, 0, 0, 0, 0, 1, 1, 1, 0, 0, 1, 0,\n",
              "       0, 1, 1, 1, 1, 0, 0, 1, 1, 0, 0, 0, 1, 1, 1, 0, 0, 1, 0, 0, 0, 0,\n",
              "       1, 0, 0, 0, 0, 0, 0, 0, 0, 0, 1, 0, 0, 0, 0, 0, 0, 1, 0, 0, 1, 0,\n",
              "       0, 1, 1, 1, 0, 1, 1, 0, 1, 0, 0, 0, 0, 1, 0])"
            ]
          },
          "metadata": {},
          "execution_count": 43
        }
      ]
    },
    {
      "cell_type": "code",
      "source": [
        "X_train_tensor = torch.from_numpy(X_train)\n",
        "X_test_tensor = torch.from_numpy(X_test)\n",
        "y_train_tensor = torch.from_numpy(y_train)\n",
        "y_test_tensor = torch.from_numpy(y_test)"
      ],
      "metadata": {
        "id": "uKPPdeCnpp84"
      },
      "execution_count": 146,
      "outputs": []
    },
    {
      "cell_type": "code",
      "source": [
        "X_test_tensor.shape,y_test_tensor.shape,X_train_tensor.shape,y_train_tensor.shape"
      ],
      "metadata": {
        "colab": {
          "base_uri": "https://localhost:8080/"
        },
        "id": "dgLMLaPBp73Y",
        "outputId": "c2cbf62b-93ff-4b02-cd3b-611c3dc82884"
      },
      "execution_count": 147,
      "outputs": [
        {
          "output_type": "execute_result",
          "data": {
            "text/plain": [
              "(torch.Size([114, 30]),\n",
              " torch.Size([114]),\n",
              " torch.Size([455, 30]),\n",
              " torch.Size([455]))"
            ]
          },
          "metadata": {},
          "execution_count": 147
        }
      ]
    },
    {
      "cell_type": "code",
      "source": [
        "class NN():\n",
        "  def __init__(self,X):\n",
        "    self.w1 = torch.randn(X,4,dtype=torch.float64,requires_grad=True)\n",
        "    self.b1 = torch.randn(4,dtype=torch.float64,requires_grad=True)\n",
        "\n",
        "    self.w2 = torch.randn(4,3,dtype=torch.float64,requires_grad=True)\n",
        "    self.b2 = torch.randn(3,dtype=torch.float64,requires_grad=True)\n",
        "\n",
        "    self.w3 = torch.randn(3,2,dtype=torch.float64,requires_grad=True)\n",
        "    self.b3 = torch.randn(2,dtype=torch.float64,requires_grad=True)\n",
        "\n",
        "    self.w4 = torch.randn(2,1,dtype=torch.float64,requires_grad=True)\n",
        "    self.b4 = torch.randn(1,dtype=torch.float64,requires_grad=True)\n",
        "\n",
        "\n",
        "  def forward(self,X):\n",
        "    z1 = X@self.w1 + self.b1\n",
        "    a1 = torch.relu(z1)\n",
        "\n",
        "    z2 = a1@self.w2 + self.b2\n",
        "    a2 = torch.relu(z2)\n",
        "\n",
        "    z3 = a2@self.w3 + self.b3\n",
        "    a3 = torch.relu(z3)\n",
        "\n",
        "    z4 = a3@self.w4 + self.b4\n",
        "    y_pred = torch.sigmoid(z4)\n",
        "\n",
        "    return y_pred\n",
        "\n",
        "  def loss(self,y_pred,y):\n",
        "    epsilon = 1e-7  # To prevent log(0)\n",
        "    y_pred = torch.clamp(y_pred, epsilon, 1 - epsilon)\n",
        "\n",
        "    loss = -(y_train_tensor * torch.log(y_pred) + (1 - y_train_tensor) * torch.log(1 - y_pred))\n",
        "    return loss.mean()\n",
        "\n",
        "  def parameters(self):\n",
        "    return [self.w1, self.b1, self.w2, self.b2, self.w3, self.b3, self.w4, self.b4]\n",
        "\n",
        "\n",
        "\n"
      ],
      "metadata": {
        "id": "VWtnO6gtqIN4"
      },
      "execution_count": 164,
      "outputs": []
    },
    {
      "cell_type": "code",
      "source": [
        "learning_rate = 0.01\n",
        "epochs = 50"
      ],
      "metadata": {
        "id": "DSUQ2dIfr2-F"
      },
      "execution_count": 165,
      "outputs": []
    },
    {
      "cell_type": "code",
      "source": [
        "model = NN(X=30)\n",
        "\n",
        "#loop\n",
        "for epoch in range(epochs):\n",
        "  #forward pass\n",
        "  y_pred = model.forward(X_train_tensor)\n",
        "\n",
        "  #loss\n",
        "  loss = model.loss(y_pred,y_train_tensor)\n",
        "\n",
        "  #backward pass\n",
        "  loss.backward()\n",
        "\n",
        "  #update parameter\n",
        "  with torch.no_grad():\n",
        "    for param in model.parameters():\n",
        "      param -= learning_rate * param.grad\n",
        "#greindt reset\n",
        "      param.grad.zero_()\n",
        "\n",
        "\n",
        "    #print\n",
        "    print(f' epoch {epoch+1},loss {loss.item()}')\n",
        "\n"
      ],
      "metadata": {
        "colab": {
          "base_uri": "https://localhost:8080/"
        },
        "id": "U9HTl7Z_sCql",
        "outputId": "33f17f93-8295-4a4d-c134-9c75049633fa"
      },
      "execution_count": 166,
      "outputs": [
        {
          "output_type": "stream",
          "name": "stdout",
          "text": [
            " epoch 1,loss 2.692816890913072\n",
            " epoch 2,loss 2.619300007098326\n",
            " epoch 3,loss 2.5458444400546685\n",
            " epoch 4,loss 2.4748885688586237\n",
            " epoch 5,loss 2.40478264253362\n",
            " epoch 6,loss 2.3330545435276346\n",
            " epoch 7,loss 2.2619586557222124\n",
            " epoch 8,loss 2.1927968744733937\n",
            " epoch 9,loss 2.120636336936254\n",
            " epoch 10,loss 2.0504631221342358\n",
            " epoch 11,loss 1.9822224983363208\n",
            " epoch 12,loss 1.9173597341284816\n",
            " epoch 13,loss 1.853447077390654\n",
            " epoch 14,loss 1.791202677180999\n",
            " epoch 15,loss 1.7296615977239003\n",
            " epoch 16,loss 1.668751095923525\n",
            " epoch 17,loss 1.60805689574758\n",
            " epoch 18,loss 1.548617565032229\n",
            " epoch 19,loss 1.4923781689689448\n",
            " epoch 20,loss 1.4389368897484136\n",
            " epoch 21,loss 1.3880183492422908\n",
            " epoch 22,loss 1.3394866093237487\n",
            " epoch 23,loss 1.2929327994890396\n",
            " epoch 24,loss 1.2450689825946755\n",
            " epoch 25,loss 1.1969854427469855\n",
            " epoch 26,loss 1.1510380551097101\n",
            " epoch 27,loss 1.107152245528112\n",
            " epoch 28,loss 1.065279179074234\n",
            " epoch 29,loss 1.0253912600254\n",
            " epoch 30,loss 0.9874924849080845\n",
            " epoch 31,loss 0.951644120587482\n",
            " epoch 32,loss 0.9179536012760399\n",
            " epoch 33,loss 0.8865833785941851\n",
            " epoch 34,loss 0.8577587156506864\n",
            " epoch 35,loss 0.8317673985961074\n",
            " epoch 36,loss 0.8089462071145594\n",
            " epoch 37,loss 0.7896286675892967\n",
            " epoch 38,loss 0.7740217510547142\n",
            " epoch 39,loss 0.7620365591427262\n",
            " epoch 40,loss 0.753211896778287\n",
            " epoch 41,loss 0.7468514198060623\n",
            " epoch 42,loss 0.7422567356266706\n",
            " epoch 43,loss 0.7388682424718858\n",
            " epoch 44,loss 0.736287329202566\n",
            " epoch 45,loss 0.7342450191299092\n",
            " epoch 46,loss 0.732563431600955\n",
            " epoch 47,loss 0.7311253500545316\n",
            " epoch 48,loss 0.7298542396262954\n",
            " epoch 49,loss 0.728699163998026\n",
            " epoch 50,loss 0.7276262618717153\n"
          ]
        }
      ]
    },
    {
      "cell_type": "code",
      "source": [
        "\n",
        "model.w1"
      ],
      "metadata": {
        "colab": {
          "base_uri": "https://localhost:8080/"
        },
        "id": "_dvt2rnvr3Am",
        "outputId": "0bd1fd9e-f046-4bf8-8299-1d8e94d40aa8"
      },
      "execution_count": 167,
      "outputs": [
        {
          "output_type": "execute_result",
          "data": {
            "text/plain": [
              "tensor([[-0.6214, -1.2806,  0.3945, -0.3375],\n",
              "        [-0.9381,  0.2184, -1.2179, -0.1082],\n",
              "        [ 0.5541, -0.3982, -1.2411,  0.5302],\n",
              "        [-1.0413,  0.3941, -1.6223,  0.1110],\n",
              "        [-0.1150, -0.0313,  0.4742, -1.1260],\n",
              "        [ 0.6606,  0.7505, -0.3201,  0.4040],\n",
              "        [ 0.8939, -0.4011, -0.3670, -1.4605],\n",
              "        [-0.2935, -1.1770, -0.2089,  1.3488],\n",
              "        [ 2.3350,  2.0508, -0.6497,  0.2396],\n",
              "        [ 0.1472,  0.1335,  0.6937,  1.5862],\n",
              "        [ 0.7940,  0.8509,  0.3772, -1.1391],\n",
              "        [-0.4791,  0.7720,  0.1216, -1.1351],\n",
              "        [-0.6396,  0.9337,  1.0768,  0.6812],\n",
              "        [-0.9254,  0.0653, -0.3127, -0.1609],\n",
              "        [ 0.5081, -1.1462, -1.2273,  0.7255],\n",
              "        [ 0.4289, -1.0909, -1.3700,  1.1875],\n",
              "        [-0.5928,  2.8786,  0.4125,  0.5626],\n",
              "        [-0.1625,  0.0415, -0.9967, -0.7809],\n",
              "        [-1.2985,  0.7568, -1.0644, -0.0876],\n",
              "        [ 0.6519, -1.9004,  0.2205,  0.6638],\n",
              "        [ 0.0151, -1.7982,  0.4830, -1.0842],\n",
              "        [-1.6505, -0.0141, -0.8118, -1.9689],\n",
              "        [ 1.1605,  1.0111, -0.7422, -0.9146],\n",
              "        [ 0.1726,  0.0582,  2.3248,  0.1499],\n",
              "        [ 0.7867, -0.2543, -0.7843,  1.3347],\n",
              "        [-0.1326, -0.6882,  0.7831, -0.9951],\n",
              "        [ 0.4565, -0.1689,  0.7337,  0.0305],\n",
              "        [-0.4785, -0.9798, -0.5546, -0.6525],\n",
              "        [ 0.9090, -0.7401,  0.8415,  0.1961],\n",
              "        [-2.0392, -0.2206,  1.7705,  0.8900]], dtype=torch.float64,\n",
              "       requires_grad=True)"
            ]
          },
          "metadata": {},
          "execution_count": 167
        }
      ]
    },
    {
      "cell_type": "code",
      "source": [
        "model.b1\n"
      ],
      "metadata": {
        "colab": {
          "base_uri": "https://localhost:8080/"
        },
        "id": "pR8QqM-Hr3C_",
        "outputId": "a862c374-2265-4eb2-cd01-5596eaa44c4d"
      },
      "execution_count": 168,
      "outputs": [
        {
          "output_type": "execute_result",
          "data": {
            "text/plain": [
              "tensor([ 1.4793, -0.1879, -1.6007, -0.5720], dtype=torch.float64,\n",
              "       requires_grad=True)"
            ]
          },
          "metadata": {},
          "execution_count": 168
        }
      ]
    },
    {
      "cell_type": "code",
      "source": [
        "#model evalutaion\n",
        "with torch.no_grad():\n",
        "  y_pred = model.forward(X_test_tensor)\n",
        "  loss = model.loss(y_pred,y_test_tensor)\n",
        "  y_pred = (y_pred > 0.5).float()\n",
        "  accuracy = (y_pred == y_test_tensor).float().mean()\n",
        "  print(f'loss {loss.item()}')\n",
        "  print(f'accuracy {accuracy.item()}')\n",
        "\n"
      ],
      "metadata": {
        "colab": {
          "base_uri": "https://localhost:8080/"
        },
        "id": "c2_2Ri02r3FU",
        "outputId": "01467c2e-695d-4828-cd58-b74e7abfb985"
      },
      "execution_count": 170,
      "outputs": [
        {
          "output_type": "stream",
          "name": "stdout",
          "text": [
            "loss 0.7213829221535074\n",
            "accuracy 0.6163434982299805\n"
          ]
        }
      ]
    },
    {
      "cell_type": "code",
      "source": [
        "import matplotlib.pyplot as plt\n",
        "\n",
        "loss_list = []\n",
        "acc_list = []\n",
        "\n",
        "for epoch in range(epochs):\n",
        "    y_pred = model.forward(X_train_tensor)\n",
        "    loss = model.loss(y_pred, y_train_tensor)\n",
        "    loss.backward()\n",
        "\n",
        "    # Update weights\n",
        "    with torch.no_grad():\n",
        "        for p in model.parameters():\n",
        "            p -= learning_rate * p.grad\n",
        "            p.grad.zero_()\n",
        "\n",
        "    # Accuracy\n",
        "    with torch.no_grad():\n",
        "        y_class = (y_pred >= 0.5).float()\n",
        "        acc = (y_class == y_train_tensor).float().mean()\n",
        "\n",
        "    # Save loss and accuracy\n",
        "    loss_list.append(loss.item())\n",
        "    acc_list.append(acc.item())\n",
        "\n",
        "    if epoch % 10 == 0:\n",
        "        print(f\"Epoch {epoch}, Loss = {loss.item():.4f}, Accuracy = {acc.item():.4f}\")\n"
      ],
      "metadata": {
        "colab": {
          "base_uri": "https://localhost:8080/"
        },
        "id": "4tkG-WhMr3H2",
        "outputId": "27a457b6-5df6-42fe-a9bb-5bc2f69ea8c6"
      },
      "execution_count": 172,
      "outputs": [
        {
          "output_type": "stream",
          "name": "stdout",
          "text": [
            "Epoch 0, Loss = 0.7266, Accuracy = 0.6207\n",
            "Epoch 10, Loss = 0.7172, Accuracy = 0.6195\n",
            "Epoch 20, Loss = 0.7099, Accuracy = 0.6195\n",
            "Epoch 30, Loss = 0.7037, Accuracy = 0.6195\n",
            "Epoch 40, Loss = 0.6983, Accuracy = 0.6201\n"
          ]
        }
      ]
    },
    {
      "cell_type": "code",
      "source": [
        "plt.figure(figsize=(12, 5))\n",
        "\n",
        "plt.subplot(1, 2, 1)\n",
        "plt.plot(loss_list, label=\"Loss\")\n",
        "plt.xlabel(\"Epoch\")\n",
        "plt.ylabel(\"Loss\")\n",
        "plt.title(\"Loss over Epochs\")\n",
        "plt.legend()\n",
        "\n",
        "plt.subplot(1, 2, 2)\n",
        "plt.plot(acc_list, label=\"Accuracy\", color=\"green\")\n",
        "plt.xlabel(\"Epoch\")\n",
        "plt.ylabel(\"Accuracy\")\n",
        "plt.title(\"Accuracy over Epochs\")\n",
        "plt.legend()\n",
        "\n",
        "plt.tight_layout()\n",
        "plt.show()\n"
      ],
      "metadata": {
        "colab": {
          "base_uri": "https://localhost:8080/",
          "height": 507
        },
        "id": "-_3CGTVBr3LO",
        "outputId": "f79875ea-e919-473a-ba68-31430bbbb411"
      },
      "execution_count": 173,
      "outputs": [
        {
          "output_type": "display_data",
          "data": {
            "text/plain": [
              "<Figure size 1200x500 with 2 Axes>"
            ],
            "image/png": "[encoded data removed]"
          },
          "metadata": {}
        }
      ]
    },
    {
      "cell_type": "code",
      "source": [],
      "metadata": {
        "id": "9AUuQj-wIJXv"
      },
      "execution_count": null,
      "outputs": []
    }
  ]
}